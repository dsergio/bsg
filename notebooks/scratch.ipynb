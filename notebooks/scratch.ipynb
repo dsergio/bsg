{
 "cells": [
  {
   "cell_type": "code",
   "execution_count": null,
   "metadata": {},
   "outputs": [
    {
     "name": "stdout",
     "output_type": "stream",
     "text": [
      "H\n",
      "p1:  0.8\n",
      "p2:  0.2\n",
      "H'\n",
      "p1:  0.8784974492729345\n",
      "p2:  0.0063846563774465626\n"
     ]
    }
   ],
   "source": [
    "\n",
    "r = 4\n",
    "b = 4\n",
    "\n",
    "p1 = 0.8 \n",
    "p2 = 0.2\n",
    "\n",
    "print(\"H\")\n",
    "print(\"p1: \", p1)\n",
    "print(\"p2: \", p2)\n",
    "\n",
    " # AND\n",
    "p1 = p1 ** r\n",
    " # OR\n",
    "p1 = 1 - (1 - p1) ** b\n",
    "\n",
    " # AND\n",
    "p2 = p2 ** r\n",
    " # OR\n",
    "p2 = 1 - (1 - p2) ** b\n",
    "\n",
    "print(\"H'\")\n",
    "print(\"p1: \", p1)\n",
    "print(\"p2: \", p2)\n",
    "\n"
   ]
  },
  {
   "cell_type": "code",
   "execution_count": 12,
   "metadata": {},
   "outputs": [
    {
     "name": "stdout",
     "output_type": "stream",
     "text": [
      "H\n",
      "p1:  0.8\n",
      "p2:  0.2\n",
      "H'\n",
      "p1:  0.9936153436225534\n",
      "p2:  0.12150255072706553\n"
     ]
    }
   ],
   "source": [
    "p1 = 0.8 \n",
    "p2 = 0.2\n",
    "\n",
    "print(\"H\")\n",
    "print(\"p1: \", p1)\n",
    "print(\"p2: \", p2)\n",
    "\n",
    "\n",
    " # OR\n",
    "p1 = 1 - (1 - p1) ** b\n",
    " # AND\n",
    "p1 = p1 ** r\n",
    "\n",
    "\n",
    " # OR\n",
    "p2 = 1 - (1 - p2) ** b\n",
    " # AND\n",
    "p2 = p2 ** r\n",
    "\n",
    "print(\"H'\")\n",
    "print(\"p1: \", p1)\n",
    "print(\"p2: \", p2)\n"
   ]
  },
  {
   "cell_type": "code",
   "execution_count": null,
   "metadata": {},
   "outputs": [
    {
     "ename": "TypeError",
     "evalue": "unsupported operand type(s) for @: 'list' and 'list'",
     "output_type": "error",
     "traceback": [
      "\u001b[0;31m---------------------------------------------------------------------------\u001b[0m",
      "\u001b[0;31mTypeError\u001b[0m                                 Traceback (most recent call last)",
      "Cell \u001b[0;32mIn[13], line 7\u001b[0m\n\u001b[1;32m      4\u001b[0m r1 \u001b[38;5;241m=\u001b[39m [\u001b[38;5;241m1\u001b[39m, \u001b[38;5;241m-\u001b[39m\u001b[38;5;241m1\u001b[39m, \u001b[38;5;241m1\u001b[39m]\n\u001b[1;32m      5\u001b[0m r2 \u001b[38;5;241m=\u001b[39m [\u001b[38;5;241m1\u001b[39m, \u001b[38;5;241m1\u001b[39m, \u001b[38;5;241m-\u001b[39m\u001b[38;5;241m1\u001b[39m]\n\u001b[0;32m----> 7\u001b[0m \u001b[43mu\u001b[49m\u001b[43m \u001b[49m\u001b[38;5;241;43m@\u001b[39;49m\u001b[43m \u001b[49m\u001b[43mr1\u001b[49m\n",
      "\u001b[0;31mTypeError\u001b[0m: unsupported operand type(s) for @: 'list' and 'list'"
     ]
    }
   ],
   "source": [
    "import numpy as np\n",
    "\n",
    "u = np.array([1, 2, 3])\n",
    "v = np.array([3, 4, 5])\n",
    "\n",
    "r1 = np.array([1, -1, 1])\n",
    "r2 = np.array([1, 1, -1])\n",
    "\n",
    "u @ r1"
   ]
  }
 ],
 "metadata": {
  "kernelspec": {
   "display_name": "bsg",
   "language": "python",
   "name": "python3"
  },
  "language_info": {
   "codemirror_mode": {
    "name": "ipython",
    "version": 3
   },
   "file_extension": ".py",
   "mimetype": "text/x-python",
   "name": "python",
   "nbconvert_exporter": "python",
   "pygments_lexer": "ipython3",
   "version": "3.12.8"
  }
 },
 "nbformat": 4,
 "nbformat_minor": 2
}
