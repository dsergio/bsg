{
 "cells": [
  {
   "cell_type": "code",
   "execution_count": 94,
   "metadata": {},
   "outputs": [],
   "source": [
    "import pyspark\n",
    "from pyspark.sql import *\n",
    "from pyspark import SparkContext, SparkConf\n",
    "\n",
    "from pyspark.sql import *\n",
    "from pyspark.sql.functions import *\n",
    "\n",
    "import pandas as pd\n",
    "import sqlite3\n",
    "\n",
    "import matplotlib"
   ]
  },
  {
   "cell_type": "code",
   "execution_count": 95,
   "metadata": {},
   "outputs": [
    {
     "name": "stderr",
     "output_type": "stream",
     "text": [
      "25/02/16 15:37:19 WARN Utils: Service 'SparkUI' could not bind on port 4040. Attempting port 4041.\n",
      "25/02/16 15:37:19 WARN Utils: Service 'SparkUI' could not bind on port 4041. Attempting port 4042.\n"
     ]
    }
   ],
   "source": [
    "conf = SparkConf().setAppName(\"appName\").setMaster(\"local\")\n",
    "sc = SparkContext(conf=conf)\n",
    "spark = SparkSession.builder.getOrCreate()"
   ]
  },
  {
   "cell_type": "code",
   "execution_count": 96,
   "metadata": {},
   "outputs": [
    {
     "name": "stdout",
     "output_type": "stream",
     "text": [
      "/home/ho-yu\n"
     ]
    }
   ],
   "source": [
    "import os.path\n",
    "from os import listdir\n",
    "from os.path import isfile, join\n",
    "import sys\n",
    "\n",
    "import subprocess\n",
    "import yaml\n",
    "\n",
    "# Add the parent directory to the system path\n",
    "parent_dir = os.path.abspath(os.path.join(os.getcwd(), os.pardir))\n",
    "sys.path.append(parent_dir)\n",
    "\n",
    "print(parent_dir)"
   ]
  },
  {
   "cell_type": "code",
   "execution_count": 97,
   "metadata": {},
   "outputs": [
    {
     "name": "stdout",
     "output_type": "stream",
     "text": [
      "Current working directory set to: /home/ho-yu/bsg\n",
      "dir: /home/ho-yu/bsg\n",
      "Current working directory set to: /home/ho-yu/bsg\n"
     ]
    }
   ],
   "source": [
    "\n",
    "\n",
    "print(\"Current working directory set to:\", os.getcwd())\n",
    "\n",
    "# Read the config.yaml file\n",
    "# if os.path.exists('config.yaml'):\n",
    "#     with open('config.yaml', 'r') as file:\n",
    "#         config = yaml.safe_load(file)\n",
    "\n",
    "if os.path.exists('../config.yaml'):\n",
    "    with open('../config.yaml', 'r') as file:\n",
    "        config = yaml.safe_load(file)\n",
    "\n",
    "dir = config['fileio']['working_directory2']\n",
    "\n",
    "print(\"dir: \" + dir)\n",
    "\n",
    "# Set the current working directory\n",
    "os.chdir(dir)\n",
    "print(\"Current working directory set to:\", os.getcwd())"
   ]
  },
  {
   "cell_type": "code",
   "execution_count": 98,
   "metadata": {},
   "outputs": [
    {
     "name": "stdout",
     "output_type": "stream",
     "text": [
      "db construct error: Command '['bash', '/home/ho-yu/bsg/generate_db.sh']' returned non-zero exit status 1.\n"
     ]
    }
   ],
   "source": [
    "sql_definitions = [\n",
    "\t\"people.sql\", \n",
    "\t\"cylons.sql\", \n",
    "\t\"cylons_people.sql\",\n",
    "\t\"colonies.sql\", \n",
    "\t\"person_actions.sql\",\n",
    "\t\"employees.sql\",\n",
    "\t\"employers.sql\",\n",
    "\t\"departments.sql\"\n",
    "]\n",
    "\n",
    "sql_content = \"\"\n",
    "\n",
    "for filename in sql_definitions:\n",
    "\tfilename = dir + \"/sql/definitions/\" + filename\n",
    "\tif not os.path.isfile(filename):\n",
    "\t\tprint('File does not exist: ' + filename)\n",
    "\telse:\n",
    "\t    with open(filename) as f:\n",
    "\t        sql_content = sql_content + f.read()\n",
    "\n",
    "f = open(dir + \"/sql/generated/simple.sql\", \"w\")\n",
    "f.write(sql_content)\n",
    "f.close()\n",
    "\n",
    "db_command_file = dir + \"/generate_db.sh\"\n",
    "db_command = \"sqlite3 \" + dir + \"/db/simple.db < \" + dir + \"/sql/generated/simple.sql\"\n",
    "\n",
    "with open(db_command_file, \"w\") as file:\n",
    "    file.write(db_command)\n",
    "\n",
    "try:\n",
    "    result = subprocess.run([\"bash\", db_command_file], check=True, text=True, capture_output=True)\n",
    "    print(\"db construct successful:\", result.stdout)\n",
    "except subprocess.CalledProcessError as e:\n",
    "    print(\"db construct error:\", e)\n"
   ]
  },
  {
   "cell_type": "code",
   "execution_count": 99,
   "metadata": {},
   "outputs": [],
   "source": [
    "\n",
    "conn = sqlite3.connect(dir + \"/db/simple.db\")\n",
    "cursor = conn.cursor()"
   ]
  },
  {
   "cell_type": "code",
   "execution_count": 100,
   "metadata": {},
   "outputs": [
    {
     "name": "stdout",
     "output_type": "stream",
     "text": [
      "[]\n"
     ]
    }
   ],
   "source": [
    "rows = cursor.execute(\"SELECT * FROM person_actions\")\n",
    "print(rows.fetchall())"
   ]
  },
  {
   "cell_type": "code",
   "execution_count": 101,
   "metadata": {},
   "outputs": [
    {
     "name": "stdout",
     "output_type": "stream",
     "text": [
      "INSERT INTO person_actions (id, action_name, source_person_id, target_person_id) VALUES (NULL, 'help', 3, 1);\n",
      "INSERT INTO person_actions (id, action_name, source_person_id, target_person_id) VALUES (NULL, 'save', 5, 7);\n",
      "INSERT INTO person_actions (id, action_name, source_person_id, target_person_id) VALUES (NULL, 'help', 4, 6);\n",
      "INSERT INTO person_actions (id, action_name, source_person_id, target_person_id) VALUES (NULL, 'save', 5, 7);\n",
      "INSERT INTO person_actions (id, action_name, source_person_id, target_person_id) VALUES (NULL, 'betray', 4, 9);\n",
      "INSERT INTO person_actions (id, action_name, source_person_id, target_person_id) VALUES (NULL, 'betray', 7, 6);\n",
      "INSERT INTO person_actions (id, action_name, source_person_id, target_person_id) VALUES (NULL, 'fight', 2, 6);\n",
      "INSERT INTO person_actions (id, action_name, source_person_id, target_person_id) VALUES (NULL, 'betray', 9, 9);\n",
      "INSERT INTO person_actions (id, action_name, source_person_id, target_person_id) VALUES (NULL, 'help', 10, 7);\n",
      "INSERT INTO person_actions (id, action_name, source_person_id, target_person_id) VALUES (NULL, 'help', 10, 9);\n",
      "INSERT INTO person_actions (id, action_name, source_person_id, target_person_id) VALUES (NULL, 'forgive', 4, 1);\n",
      "INSERT INTO person_actions (id, action_name, source_person_id, target_person_id) VALUES (NULL, 'save', 8, 2);\n",
      "INSERT INTO person_actions (id, action_name, source_person_id, target_person_id) VALUES (NULL, 'fight', 10, 6);\n",
      "INSERT INTO person_actions (id, action_name, source_person_id, target_person_id) VALUES (NULL, 'save', 5, 7);\n",
      "INSERT INTO person_actions (id, action_name, source_person_id, target_person_id) VALUES (NULL, 'save', 4, 9);\n",
      "INSERT INTO person_actions (id, action_name, source_person_id, target_person_id) VALUES (NULL, 'help', 1, 7);\n",
      "INSERT INTO person_actions (id, action_name, source_person_id, target_person_id) VALUES (NULL, 'save', 6, 1);\n",
      "INSERT INTO person_actions (id, action_name, source_person_id, target_person_id) VALUES (NULL, 'betray', 2, 10);\n",
      "INSERT INTO person_actions (id, action_name, source_person_id, target_person_id) VALUES (NULL, 'save', 6, 8);\n",
      "INSERT INTO person_actions (id, action_name, source_person_id, target_person_id) VALUES (NULL, 'forgive', 2, 5);\n",
      "INSERT INTO person_actions (id, action_name, source_person_id, target_person_id) VALUES (NULL, 'help', 2, 7);\n",
      "INSERT INTO person_actions (id, action_name, source_person_id, target_person_id) VALUES (NULL, 'save', 3, 2);\n",
      "INSERT INTO person_actions (id, action_name, source_person_id, target_person_id) VALUES (NULL, 'forgive', 9, 2);\n",
      "INSERT INTO person_actions (id, action_name, source_person_id, target_person_id) VALUES (NULL, 'betray', 10, 3);\n",
      "INSERT INTO person_actions (id, action_name, source_person_id, target_person_id) VALUES (NULL, 'forgive', 6, 9);\n",
      "INSERT INTO person_actions (id, action_name, source_person_id, target_person_id) VALUES (NULL, 'save', 2, 10);\n",
      "INSERT INTO person_actions (id, action_name, source_person_id, target_person_id) VALUES (NULL, 'help', 8, 2);\n",
      "INSERT INTO person_actions (id, action_name, source_person_id, target_person_id) VALUES (NULL, 'save', 8, 8);\n",
      "INSERT INTO person_actions (id, action_name, source_person_id, target_person_id) VALUES (NULL, 'help', 9, 6);\n",
      "INSERT INTO person_actions (id, action_name, source_person_id, target_person_id) VALUES (NULL, 'fight', 3, 1);\n",
      "INSERT INTO person_actions (id, action_name, source_person_id, target_person_id) VALUES (NULL, 'forgive', 6, 4);\n",
      "INSERT INTO person_actions (id, action_name, source_person_id, target_person_id) VALUES (NULL, 'save', 9, 10);\n",
      "INSERT INTO person_actions (id, action_name, source_person_id, target_person_id) VALUES (NULL, 'help', 1, 2);\n",
      "INSERT INTO person_actions (id, action_name, source_person_id, target_person_id) VALUES (NULL, 'forgive', 3, 6);\n",
      "INSERT INTO person_actions (id, action_name, source_person_id, target_person_id) VALUES (NULL, 'help', 3, 9);\n",
      "INSERT INTO person_actions (id, action_name, source_person_id, target_person_id) VALUES (NULL, 'help', 6, 2);\n",
      "INSERT INTO person_actions (id, action_name, source_person_id, target_person_id) VALUES (NULL, 'help', 10, 3);\n",
      "INSERT INTO person_actions (id, action_name, source_person_id, target_person_id) VALUES (NULL, 'fight', 10, 3);\n",
      "INSERT INTO person_actions (id, action_name, source_person_id, target_person_id) VALUES (NULL, 'forgive', 1, 1);\n",
      "INSERT INTO person_actions (id, action_name, source_person_id, target_person_id) VALUES (NULL, 'forgive', 1, 1);\n",
      "INSERT INTO person_actions (id, action_name, source_person_id, target_person_id) VALUES (NULL, 'forgive', 8, 8);\n",
      "INSERT INTO person_actions (id, action_name, source_person_id, target_person_id) VALUES (NULL, 'help', 8, 10);\n",
      "INSERT INTO person_actions (id, action_name, source_person_id, target_person_id) VALUES (NULL, 'save', 10, 1);\n",
      "INSERT INTO person_actions (id, action_name, source_person_id, target_person_id) VALUES (NULL, 'help', 1, 9);\n",
      "INSERT INTO person_actions (id, action_name, source_person_id, target_person_id) VALUES (NULL, 'help', 5, 2);\n",
      "INSERT INTO person_actions (id, action_name, source_person_id, target_person_id) VALUES (NULL, 'fight', 8, 2);\n",
      "INSERT INTO person_actions (id, action_name, source_person_id, target_person_id) VALUES (NULL, 'save', 9, 5);\n",
      "INSERT INTO person_actions (id, action_name, source_person_id, target_person_id) VALUES (NULL, 'betray', 2, 8);\n",
      "INSERT INTO person_actions (id, action_name, source_person_id, target_person_id) VALUES (NULL, 'fight', 10, 8);\n",
      "INSERT INTO person_actions (id, action_name, source_person_id, target_person_id) VALUES (NULL, 'fight', 8, 6);\n",
      "INSERT INTO person_actions (id, action_name, source_person_id, target_person_id) VALUES (NULL, 'help', 9, 8);\n",
      "INSERT INTO person_actions (id, action_name, source_person_id, target_person_id) VALUES (NULL, 'forgive', 1, 2);\n",
      "INSERT INTO person_actions (id, action_name, source_person_id, target_person_id) VALUES (NULL, 'fight', 2, 6);\n",
      "INSERT INTO person_actions (id, action_name, source_person_id, target_person_id) VALUES (NULL, 'betray', 4, 10);\n",
      "INSERT INTO person_actions (id, action_name, source_person_id, target_person_id) VALUES (NULL, 'help', 8, 10);\n",
      "INSERT INTO person_actions (id, action_name, source_person_id, target_person_id) VALUES (NULL, 'betray', 2, 4);\n",
      "INSERT INTO person_actions (id, action_name, source_person_id, target_person_id) VALUES (NULL, 'betray', 8, 9);\n",
      "INSERT INTO person_actions (id, action_name, source_person_id, target_person_id) VALUES (NULL, 'forgive', 2, 4);\n",
      "INSERT INTO person_actions (id, action_name, source_person_id, target_person_id) VALUES (NULL, 'forgive', 8, 5);\n",
      "INSERT INTO person_actions (id, action_name, source_person_id, target_person_id) VALUES (NULL, 'forgive', 6, 10);\n",
      "INSERT INTO person_actions (id, action_name, source_person_id, target_person_id) VALUES (NULL, 'forgive', 7, 6);\n",
      "INSERT INTO person_actions (id, action_name, source_person_id, target_person_id) VALUES (NULL, 'save', 4, 10);\n",
      "INSERT INTO person_actions (id, action_name, source_person_id, target_person_id) VALUES (NULL, 'betray', 9, 8);\n",
      "INSERT INTO person_actions (id, action_name, source_person_id, target_person_id) VALUES (NULL, 'betray', 1, 9);\n",
      "INSERT INTO person_actions (id, action_name, source_person_id, target_person_id) VALUES (NULL, 'help', 6, 9);\n",
      "INSERT INTO person_actions (id, action_name, source_person_id, target_person_id) VALUES (NULL, 'fight', 7, 5);\n",
      "INSERT INTO person_actions (id, action_name, source_person_id, target_person_id) VALUES (NULL, 'forgive', 1, 6);\n",
      "INSERT INTO person_actions (id, action_name, source_person_id, target_person_id) VALUES (NULL, 'help', 5, 2);\n",
      "INSERT INTO person_actions (id, action_name, source_person_id, target_person_id) VALUES (NULL, 'help', 3, 4);\n",
      "INSERT INTO person_actions (id, action_name, source_person_id, target_person_id) VALUES (NULL, 'betray', 4, 7);\n",
      "INSERT INTO person_actions (id, action_name, source_person_id, target_person_id) VALUES (NULL, 'forgive', 5, 9);\n",
      "INSERT INTO person_actions (id, action_name, source_person_id, target_person_id) VALUES (NULL, 'forgive', 7, 8);\n",
      "INSERT INTO person_actions (id, action_name, source_person_id, target_person_id) VALUES (NULL, 'forgive', 5, 3);\n",
      "INSERT INTO person_actions (id, action_name, source_person_id, target_person_id) VALUES (NULL, 'fight', 7, 7);\n",
      "INSERT INTO person_actions (id, action_name, source_person_id, target_person_id) VALUES (NULL, 'save', 8, 7);\n",
      "INSERT INTO person_actions (id, action_name, source_person_id, target_person_id) VALUES (NULL, 'betray', 10, 4);\n",
      "INSERT INTO person_actions (id, action_name, source_person_id, target_person_id) VALUES (NULL, 'forgive', 3, 8);\n",
      "INSERT INTO person_actions (id, action_name, source_person_id, target_person_id) VALUES (NULL, 'forgive', 8, 10);\n",
      "INSERT INTO person_actions (id, action_name, source_person_id, target_person_id) VALUES (NULL, 'forgive', 2, 3);\n",
      "INSERT INTO person_actions (id, action_name, source_person_id, target_person_id) VALUES (NULL, 'help', 10, 3);\n",
      "INSERT INTO person_actions (id, action_name, source_person_id, target_person_id) VALUES (NULL, 'help', 5, 4);\n",
      "INSERT INTO person_actions (id, action_name, source_person_id, target_person_id) VALUES (NULL, 'forgive', 4, 6);\n",
      "INSERT INTO person_actions (id, action_name, source_person_id, target_person_id) VALUES (NULL, 'save', 10, 4);\n",
      "INSERT INTO person_actions (id, action_name, source_person_id, target_person_id) VALUES (NULL, 'forgive', 1, 5);\n",
      "INSERT INTO person_actions (id, action_name, source_person_id, target_person_id) VALUES (NULL, 'fight', 2, 2);\n",
      "INSERT INTO person_actions (id, action_name, source_person_id, target_person_id) VALUES (NULL, 'forgive', 7, 2);\n",
      "INSERT INTO person_actions (id, action_name, source_person_id, target_person_id) VALUES (NULL, 'forgive', 8, 1);\n",
      "INSERT INTO person_actions (id, action_name, source_person_id, target_person_id) VALUES (NULL, 'betray', 2, 8);\n",
      "INSERT INTO person_actions (id, action_name, source_person_id, target_person_id) VALUES (NULL, 'help', 2, 6);\n",
      "INSERT INTO person_actions (id, action_name, source_person_id, target_person_id) VALUES (NULL, 'save', 2, 1);\n",
      "INSERT INTO person_actions (id, action_name, source_person_id, target_person_id) VALUES (NULL, 'save', 3, 3);\n",
      "INSERT INTO person_actions (id, action_name, source_person_id, target_person_id) VALUES (NULL, 'save', 8, 6);\n",
      "INSERT INTO person_actions (id, action_name, source_person_id, target_person_id) VALUES (NULL, 'betray', 1, 2);\n",
      "INSERT INTO person_actions (id, action_name, source_person_id, target_person_id) VALUES (NULL, 'betray', 3, 3);\n",
      "INSERT INTO person_actions (id, action_name, source_person_id, target_person_id) VALUES (NULL, 'forgive', 7, 3);\n",
      "INSERT INTO person_actions (id, action_name, source_person_id, target_person_id) VALUES (NULL, 'betray', 8, 8);\n",
      "INSERT INTO person_actions (id, action_name, source_person_id, target_person_id) VALUES (NULL, 'forgive', 1, 1);\n",
      "INSERT INTO person_actions (id, action_name, source_person_id, target_person_id) VALUES (NULL, 'forgive', 8, 3);\n",
      "INSERT INTO person_actions (id, action_name, source_person_id, target_person_id) VALUES (NULL, 'betray', 6, 5);\n",
      "INSERT INTO person_actions (id, action_name, source_person_id, target_person_id) VALUES (NULL, 'fight', 3, 3);\n"
     ]
    }
   ],
   "source": [
    "\n",
    "if (sys.modules.get('src.utils') is not None): \n",
    "    del sys.modules['src.utils']\n",
    "\n",
    "from src.utils import MyUtils as utils\n",
    "\n",
    "sql = utils.generate_actions_sql()\n",
    "\n",
    "for i in sql:\n",
    "    print(i)\n",
    "    cursor.execute(i)\n",
    "    conn.commit()\n",
    "\n",
    "with open(dir + \"/sql/testdata/test_generated_data.sql\", \"r\") as file:\n",
    "    test_data = file.read()\n",
    "    cursor.executescript(test_data)\n",
    "    conn.commit()\n"
   ]
  },
  {
   "cell_type": "code",
   "execution_count": 102,
   "metadata": {},
   "outputs": [
    {
     "name": "stdout",
     "output_type": "stream",
     "text": [
      "type: \n",
      "Int64\n",
      "df_people\n",
      "   id first_name last_name salutation call_sign         dob  weight_lbs  \\\n",
      "0   1        Lee     Adama        Sir    Apollo  3730-03-25         155   \n",
      "1   2    William     Adama        Sir    Husker  3700-01-15         200   \n",
      "2   3       Kara    Thrace        Sir  Starbuck  3735-11-26         120   \n",
      "3   4      Gaius    Baltar        Dr.      None  3715-07-05         160   \n",
      "4   5      Laura    Roslin        Ms.      None  3705-03-01         115   \n",
      "\n",
      "   height_m gender  dna_mutations_n  home_colony_id  \n",
      "0      1.78      M             1556               4  \n",
      "1      1.74      M          5454544               4  \n",
      "2      1.60      F            25444               4  \n",
      "3      1.70      M             3566               1  \n",
      "4      1.55      F        534354354               4  \n",
      "\n"
     ]
    }
   ],
   "source": [
    "\n",
    "df_people = pd.read_sql_query(\"SELECT * FROM people\", conn, dtype={\"home_colony_id\": \"Int64\"})\n",
    "df_colonies = pd.read_sql_query(\"SELECT * FROM colonies\", conn)\n",
    "df_cylons = pd.read_sql_query(\"SELECT * FROM cylons\", conn, dtype={\"model_number\": \"Int64\"})\n",
    "df_cylons_people = pd.read_sql_query(\"SELECT * FROM cylons_people\", conn)\n",
    "df_person_actions = pd.read_sql_query(\"SELECT * FROM person_actions\", conn)\n",
    "df_employees = pd.read_sql_query(\"SELECT * FROM employees\", conn)\n",
    "df_employers = pd.read_sql_query(\"SELECT * FROM employers\", conn)\n",
    "df_departments = pd.read_sql_query(\"SELECT * FROM departments\", conn)\n",
    "\n",
    "\n",
    "print(\"type: \")\n",
    "print(df_people[\"home_colony_id\"].dtype)\n",
    "\n",
    "print(\"df_people\")\n",
    "print(df_people.head())\n",
    "print()\n",
    "\n",
    "\n",
    "df_people.to_csv(dir  + \"/csv/people.csv\", index=False)\n",
    "df_cylons.to_csv(dir  + \"/csv/cylons.csv\", index=False)\n",
    "df_cylons_people.to_csv(dir  + \"/csv/cylons_people.csv\", index=False)\n",
    "df_colonies.to_csv(dir  + \"/csv/colonies.csv\", index=False)\n",
    "df_person_actions.to_csv(dir  + \"/csv/person_actions.csv\", index=False)\n",
    "df_employees.to_csv(dir  + \"/csv/employees.csv\", index=False)\n",
    "df_employers.to_csv(dir  + \"/csv/employers.csv\", index=False)\n",
    "df_departments.to_csv(dir  + \"/csv/departments.csv\", index=False)\n"
   ]
  },
  {
   "cell_type": "code",
   "execution_count": 103,
   "metadata": {},
   "outputs": [
    {
     "data": {
      "text/plain": [
       "[[1, 'Lee', 'Adama', 'Sir', 'Apollo', '3730-03-25', 155, 1.78, 'M', 1556, 4],\n",
       " [2,\n",
       "  'William',\n",
       "  'Adama',\n",
       "  'Sir',\n",
       "  'Husker',\n",
       "  '3700-01-15',\n",
       "  200,\n",
       "  1.74,\n",
       "  'M',\n",
       "  5454544,\n",
       "  4],\n",
       " [3,\n",
       "  'Kara',\n",
       "  'Thrace',\n",
       "  'Sir',\n",
       "  'Starbuck',\n",
       "  '3735-11-26',\n",
       "  120,\n",
       "  1.6,\n",
       "  'F',\n",
       "  25444,\n",
       "  4],\n",
       " [4, 'Gaius', 'Baltar', 'Dr.', None, '3715-07-05', 160, 1.7, 'M', 3566, 1],\n",
       " [5,\n",
       "  'Laura',\n",
       "  'Roslin',\n",
       "  'Ms.',\n",
       "  None,\n",
       "  '3705-03-01',\n",
       "  115,\n",
       "  1.55,\n",
       "  'F',\n",
       "  534354354,\n",
       "  4],\n",
       " [6, 'Leoben', 'Conoy', 'Mr.', None, '3715-03-06', 155, 1.7, 'M', 150, <NA>],\n",
       " [7,\n",
       "  'Sharon',\n",
       "  'Valerii',\n",
       "  'Sir',\n",
       "  'Boomer',\n",
       "  '3735-08-13',\n",
       "  116,\n",
       "  1.56,\n",
       "  'F',\n",
       "  188,\n",
       "  <NA>],\n",
       " [8,\n",
       "  'Sharon',\n",
       "  'Agathon',\n",
       "  'Sir',\n",
       "  'Athena',\n",
       "  '3735-09-20',\n",
       "  116,\n",
       "  1.56,\n",
       "  'F',\n",
       "  90,\n",
       "  <NA>],\n",
       " [9, 'Saul', 'Tigh', 'Sir', None, '3690-08-19', 170, 1.7, 'M', 7756664, 13],\n",
       " [10, 'Aaron', 'Doral', 'Mr.', None, '3720-12-14', 160, 1.8, 'M', 35, <NA>],\n",
       " [11, 'Billy', 'Keikeya', 'Mr.', None, '3727-11-15', 158, 1.75, 'M', 4415, 8],\n",
       " [12, 'Galen', 'Tyrol', 'Sir', None, '3720-10-05', 185, 1.85, 'M', 11321, 13],\n",
       " [13,\n",
       "  'Anastasia',\n",
       "  'Dualla',\n",
       "  'Sir',\n",
       "  None,\n",
       "  '3725-04-01',\n",
       "  121,\n",
       "  1.59,\n",
       "  'F',\n",
       "  44556,\n",
       "  9],\n",
       " [14, 'Felix', 'Gaeta', 'Sir', None, '3726-04-09', 150, 1.68, 'M', 7548, <NA>],\n",
       " [15,\n",
       "  'Cally',\n",
       "  'Henderson',\n",
       "  'Sir',\n",
       "  None,\n",
       "  '3738-01-16',\n",
       "  110,\n",
       "  1.55,\n",
       "  'F',\n",
       "  566,\n",
       "  <NA>],\n",
       " [16, 'Karl', 'Agathon', 'Sir', 'Helo', '3724-08-17', 166, 1.8, 'M', 5785, 4],\n",
       " [17,\n",
       "  'Samuel T.',\n",
       "  'Anders',\n",
       "  'Sir',\n",
       "  None,\n",
       "  '3735-10-02',\n",
       "  180,\n",
       "  1.77,\n",
       "  'M',\n",
       "  445,\n",
       "  13]]"
      ]
     },
     "execution_count": 103,
     "metadata": {},
     "output_type": "execute_result"
    }
   ],
   "source": [
    "\n",
    "rdd_people = sc.parallelize(df_people.values.tolist())\n",
    "rdd_people.collect()"
   ]
  },
  {
   "cell_type": "code",
   "execution_count": 104,
   "metadata": {},
   "outputs": [
    {
     "name": "stdout",
     "output_type": "stream",
     "text": [
      "+-----------+-----------+\n",
      "|colony_name|personCount|\n",
      "+-----------+-----------+\n",
      "|    Aerilon|          1|\n",
      "|      Earth|          1|\n",
      "|    Caprica|          4|\n",
      "+-----------+-----------+\n",
      "\n"
     ]
    }
   ],
   "source": [
    "bsg_people = spark.read.csv(dir + \"/csv/people.csv\", header=True, inferSchema=True).withColumnRenamed(\"id\", \"person_id\")\n",
    "bsg_colonies = spark.read.csv(dir + \"/csv/colonies.csv\", header=True).withColumnRenamed(\"id\", \"colony_id\").withColumnRenamed(\"name\", \"colony_name\");\n",
    "bsg_actions = spark.read.csv(dir + \"/csv/person_actions.csv\", header=True)\n",
    "\n",
    "bsg_data = bsg_people.join(bsg_colonies, bsg_people.home_colony_id == bsg_colonies.colony_id).join(bsg_actions, bsg_people.person_id == bsg_actions.source_person_id)\n",
    "bsg_data.createOrReplaceTempView(\"bsg_data\")\n",
    "bsg_data_count = spark.sql(\"SELECT colony_name, COUNT(DISTINCT(person_id)) personCount FROM bsg_data GROUP BY colony_name\")\n",
    "bsg_data_count.show()\n"
   ]
  },
  {
   "cell_type": "code",
   "execution_count": 105,
   "metadata": {},
   "outputs": [
    {
     "data": {
      "text/html": [
       "<div>\n",
       "<style scoped>\n",
       "    .dataframe tbody tr th:only-of-type {\n",
       "        vertical-align: middle;\n",
       "    }\n",
       "\n",
       "    .dataframe tbody tr th {\n",
       "        vertical-align: top;\n",
       "    }\n",
       "\n",
       "    .dataframe thead th {\n",
       "        text-align: right;\n",
       "    }\n",
       "</style>\n",
       "<table border=\"1\" class=\"dataframe\">\n",
       "  <thead>\n",
       "    <tr style=\"text-align: right;\">\n",
       "      <th></th>\n",
       "      <th>colony_name</th>\n",
       "      <th>personCount</th>\n",
       "    </tr>\n",
       "  </thead>\n",
       "  <tbody>\n",
       "    <tr>\n",
       "      <th>0</th>\n",
       "      <td>Aerilon</td>\n",
       "      <td>1</td>\n",
       "    </tr>\n",
       "    <tr>\n",
       "      <th>1</th>\n",
       "      <td>Earth</td>\n",
       "      <td>1</td>\n",
       "    </tr>\n",
       "    <tr>\n",
       "      <th>2</th>\n",
       "      <td>Caprica</td>\n",
       "      <td>4</td>\n",
       "    </tr>\n",
       "  </tbody>\n",
       "</table>\n",
       "</div>"
      ],
      "text/plain": [
       "  colony_name  personCount\n",
       "0     Aerilon            1\n",
       "1       Earth            1\n",
       "2     Caprica            4"
      ]
     },
     "execution_count": 105,
     "metadata": {},
     "output_type": "execute_result"
    }
   ],
   "source": [
    "pd_bsg = bsg_data_count.toPandas()\n",
    "pd_bsg.head()"
   ]
  },
  {
   "cell_type": "code",
   "execution_count": 106,
   "metadata": {},
   "outputs": [
    {
     "data": {
      "text/plain": [
       "Text(0.5, 0, 'Number of People')"
      ]
     },
     "execution_count": 106,
     "metadata": {},
     "output_type": "execute_result"
    },
    {
     "data": {
      "image/png": "[encoded data removed]",
      "text/plain": [
       "<Figure size 640x480 with 1 Axes>"
      ]
     },
     "metadata": {},
     "output_type": "display_data"
    }
   ],
   "source": [
    "pd_bsg.hist(column=\"personCount\", bins=20)\n",
    "matplotlib.pyplot.xlabel(\"Number of People\")"
   ]
  },
  {
   "cell_type": "code",
   "execution_count": 107,
   "metadata": {},
   "outputs": [
    {
     "name": "stdout",
     "output_type": "stream",
     "text": [
      "+--------------+-----+\n",
      "|home_colony_id|count|\n",
      "+--------------+-----+\n",
      "|             4|   43|\n",
      "|             1|    8|\n",
      "|            13|    7|\n",
      "+--------------+-----+\n",
      "\n"
     ]
    }
   ],
   "source": [
    "colony_counts = bsg_data.groupBy(\"home_colony_id\").count().sort(desc(\"count\"))\n",
    "\n",
    "colony_counts.show()"
   ]
  },
  {
   "cell_type": "code",
   "execution_count": 108,
   "metadata": {},
   "outputs": [],
   "source": [
    "conn.close()\n",
    "sc.stop()"
   ]
  }
 ],
 "metadata": {
  "kernelspec": {
   "display_name": "bsg",
   "language": "python",
   "name": "python3"
  },
  "language_info": {
   "codemirror_mode": {
    "name": "ipython",
    "version": 3
   },
   "file_extension": ".py",
   "mimetype": "text/x-python",
   "name": "python",
   "nbconvert_exporter": "python",
   "pygments_lexer": "ipython3",
   "version": "3.12.8"
  }
 },
 "nbformat": 4,
 "nbformat_minor": 2
}
