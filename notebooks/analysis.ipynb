{
 "cells": [
  {
   "cell_type": "code",
   "execution_count": 1,
   "metadata": {},
   "outputs": [],
   "source": [
    "import pyspark\n",
    "from pyspark.sql import *\n",
    "from pyspark import SparkContext, SparkConf\n",
    "\n",
    "from pyspark.sql import *\n",
    "from pyspark.sql.functions import *\n",
    "\n",
    "import pandas as pd\n",
    "import sqlite3\n",
    "\n",
    "import matplotlib"
   ]
  },
  {
   "cell_type": "code",
   "execution_count": 2,
   "metadata": {},
   "outputs": [
    {
     "name": "stderr",
     "output_type": "stream",
     "text": [
      "Setting default log level to \"WARN\".\n",
      "To adjust logging level use sc.setLogLevel(newLevel). For SparkR, use setLogLevel(newLevel).\n",
      "25/02/16 13:47:55 WARN NativeCodeLoader: Unable to load native-hadoop library for your platform... using builtin-java classes where applicable\n"
     ]
    }
   ],
   "source": [
    "conf = SparkConf().setAppName(\"appName\").setMaster(\"local\")\n",
    "sc = SparkContext(conf=conf)\n",
    "spark = SparkSession.builder.getOrCreate()"
   ]
  },
  {
   "cell_type": "code",
   "execution_count": 3,
   "metadata": {},
   "outputs": [
    {
     "name": "stdout",
     "output_type": "stream",
     "text": [
      "/home/ho-yu/bsg\n"
     ]
    }
   ],
   "source": [
    "import os.path\n",
    "from os import listdir\n",
    "from os.path import isfile, join\n",
    "import sys\n",
    "\n",
    "import subprocess\n",
    "import yaml\n",
    "\n",
    "# Add the parent directory to the system path\n",
    "parent_dir = os.path.abspath(os.path.join(os.getcwd(), os.pardir))\n",
    "sys.path.append(parent_dir)\n",
    "\n",
    "print(parent_dir)"
   ]
  },
  {
   "cell_type": "code",
   "execution_count": null,
   "metadata": {},
   "outputs": [
    {
     "name": "stdout",
     "output_type": "stream",
     "text": [
      "Current working directory set to: /home/ho-yu/bsg/notebooks\n",
      "dir: /home/ho-yu/bsg\n",
      "Current working directory set to: /home/ho-yu/bsg\n"
     ]
    }
   ],
   "source": [
    "print(\"Current working directory set to:\", os.getcwd())\n",
    "\n",
    "# Read the config.yaml file\n",
    "if os.path.exists('config.yaml'):\n",
    "    with open('config.yaml', 'r') as file:\n",
    "        config = yaml.safe_load(file)\n",
    "\n",
    "if os.path.exists('../config.yaml'):\n",
    "    with open('../config.yaml', 'r') as file:\n",
    "        config = yaml.safe_load(file)\n",
    "\n",
    "dir = config['fileio']['working_directory2']\n",
    "\n",
    "print(\"dir: \" + dir)\n",
    "\n",
    "# Set the current working directory\n",
    "os.chdir(dir)\n",
    "print(\"Current working directory set to:\", os.getcwd())"
   ]
  },
  {
   "cell_type": "code",
   "execution_count": 9,
   "metadata": {},
   "outputs": [
    {
     "name": "stdout",
     "output_type": "stream",
     "text": [
      "+---------+----------+---------+----------+---------+----------+----------+--------+------+---------------+--------------+---------+-----------+---+-----------+-------------------+----------------+----------------+\n",
      "|person_id|first_name|last_name|salutation|call_sign|       dob|weight_lbs|height_m|gender|dna_mutations_n|home_colony_id|colony_id|colony_name| id|action_name|   action_timestamp|source_person_id|target_person_id|\n",
      "+---------+----------+---------+----------+---------+----------+----------+--------+------+---------------+--------------+---------+-----------+---+-----------+-------------------+----------------+----------------+\n",
      "|        1|       Lee|    Adama|       Sir|   Apollo|3730-03-25|       155|    1.78|     M|           1556|             4|        4|    Caprica| 95|      fight|2025-02-16 13:47:07|               1|               5|\n",
      "|        1|       Lee|    Adama|       Sir|   Apollo|3730-03-25|       155|    1.78|     M|           1556|             4|        4|    Caprica| 85|       save|2025-02-16 13:47:07|               1|               2|\n",
      "|        1|       Lee|    Adama|       Sir|   Apollo|3730-03-25|       155|    1.78|     M|           1556|             4|        4|    Caprica| 67|     betray|2025-02-16 13:47:07|               1|               5|\n",
      "|        1|       Lee|    Adama|       Sir|   Apollo|3730-03-25|       155|    1.78|     M|           1556|             4|        4|    Caprica| 53|       help|2025-02-16 13:47:07|               1|               6|\n",
      "|        1|       Lee|    Adama|       Sir|   Apollo|3730-03-25|       155|    1.78|     M|           1556|             4|        4|    Caprica| 49|     betray|2025-02-16 13:47:07|               1|               8|\n",
      "|        1|       Lee|    Adama|       Sir|   Apollo|3730-03-25|       155|    1.78|     M|           1556|             4|        4|    Caprica| 44|     betray|2025-02-16 13:47:07|               1|               9|\n",
      "|        1|       Lee|    Adama|       Sir|   Apollo|3730-03-25|       155|    1.78|     M|           1556|             4|        4|    Caprica| 36|      fight|2025-02-16 13:47:07|               1|               8|\n",
      "|        1|       Lee|    Adama|       Sir|   Apollo|3730-03-25|       155|    1.78|     M|           1556|             4|        4|    Caprica| 33|     betray|2025-02-16 13:47:07|               1|               7|\n",
      "|        1|       Lee|    Adama|       Sir|   Apollo|3730-03-25|       155|    1.78|     M|           1556|             4|        4|    Caprica| 25|      fight|2025-02-16 13:47:07|               1|               1|\n",
      "|        1|       Lee|    Adama|       Sir|   Apollo|3730-03-25|       155|    1.78|     M|           1556|             4|        4|    Caprica| 14|    forgive|2025-02-16 13:47:07|               1|               3|\n",
      "|        1|       Lee|    Adama|       Sir|   Apollo|3730-03-25|       155|    1.78|     M|           1556|             4|        4|    Caprica| 10|    forgive|2025-02-16 13:47:07|               1|               3|\n",
      "|        2|   William|    Adama|       Sir|   Husker|3700-01-15|       200|    1.74|     M|        5454544|             4|        4|    Caprica| 91|      fight|2025-02-16 13:47:07|               2|               6|\n",
      "|        2|   William|    Adama|       Sir|   Husker|3700-01-15|       200|    1.74|     M|        5454544|             4|        4|    Caprica| 86|       save|2025-02-16 13:47:07|               2|               7|\n",
      "|        2|   William|    Adama|       Sir|   Husker|3700-01-15|       200|    1.74|     M|        5454544|             4|        4|    Caprica| 84|       help|2025-02-16 13:47:07|               2|               9|\n",
      "|        2|   William|    Adama|       Sir|   Husker|3700-01-15|       200|    1.74|     M|        5454544|             4|        4|    Caprica| 66|     betray|2025-02-16 13:47:07|               2|               7|\n",
      "|        2|   William|    Adama|       Sir|   Husker|3700-01-15|       200|    1.74|     M|        5454544|             4|        4|    Caprica| 64|      fight|2025-02-16 13:47:07|               2|              10|\n",
      "|        2|   William|    Adama|       Sir|   Husker|3700-01-15|       200|    1.74|     M|        5454544|             4|        4|    Caprica| 56|    forgive|2025-02-16 13:47:07|               2|               5|\n",
      "|        2|   William|    Adama|       Sir|   Husker|3700-01-15|       200|    1.74|     M|        5454544|             4|        4|    Caprica| 48|      fight|2025-02-16 13:47:07|               2|              10|\n",
      "|        2|   William|    Adama|       Sir|   Husker|3700-01-15|       200|    1.74|     M|        5454544|             4|        4|    Caprica| 45|    forgive|2025-02-16 13:47:07|               2|               7|\n",
      "|        2|   William|    Adama|       Sir|   Husker|3700-01-15|       200|    1.74|     M|        5454544|             4|        4|    Caprica| 41|       help|2025-02-16 13:47:07|               2|              10|\n",
      "+---------+----------+---------+----------+---------+----------+----------+--------+------+---------------+--------------+---------+-----------+---+-----------+-------------------+----------------+----------------+\n",
      "only showing top 20 rows\n",
      "\n",
      "+-----------+-----------+\n",
      "|colony_name|personCount|\n",
      "+-----------+-----------+\n",
      "|    Aerilon|          1|\n",
      "|      Earth|          1|\n",
      "|    Caprica|          4|\n",
      "+-----------+-----------+\n",
      "\n",
      "+---------+----------+---------+----------+---------+----------+----------+--------+------+---------------+--------------+\n",
      "|person_id|first_name|last_name|salutation|call_sign|       dob|weight_lbs|height_m|gender|dna_mutations_n|home_colony_id|\n",
      "+---------+----------+---------+----------+---------+----------+----------+--------+------+---------------+--------------+\n",
      "|        1|       Lee|    Adama|       Sir|   Apollo|3730-03-25|       155|    1.78|     M|           1556|             4|\n",
      "|        2|   William|    Adama|       Sir|   Husker|3700-01-15|       200|    1.74|     M|        5454544|             4|\n",
      "|        3|      Kara|   Thrace|       Sir| Starbuck|3735-11-26|       120|     1.6|     F|          25444|             4|\n",
      "|        4|     Gaius|   Baltar|       Dr.|     NULL|3715-07-05|       160|     1.7|     M|           3566|             1|\n",
      "|        5|     Laura|   Roslin|       Ms.|     NULL|3705-03-01|       115|    1.55|     F|      534354354|             4|\n",
      "|        6|    Leoben|    Conoy|       Mr.|     NULL|3715-03-06|       155|     1.7|     M|            150|          NULL|\n",
      "|        7|    Sharon|  Valerii|       Sir|   Boomer|3735-08-13|       116|    1.56|     F|            188|          NULL|\n",
      "|        8|    Sharon|  Agathon|       Sir|   Athena|3735-09-20|       116|    1.56|     F|             90|          NULL|\n",
      "|        9|      Saul|     Tigh|       Sir|     NULL|3690-08-19|       170|     1.7|     M|        7756664|            13|\n",
      "|       10|     Aaron|    Doral|       Mr.|     NULL|3720-12-14|       160|     1.8|     M|             35|          NULL|\n",
      "|       11|     Billy|  Keikeya|       Mr.|     NULL|3727-11-15|       158|    1.75|     M|           4415|             8|\n",
      "|       12|     Galen|    Tyrol|       Sir|     NULL|3720-10-05|       185|    1.85|     M|          11321|            13|\n",
      "|       13| Anastasia|   Dualla|       Sir|     NULL|3725-04-01|       121|    1.59|     F|          44556|             9|\n",
      "|       14|     Felix|    Gaeta|       Sir|     NULL|3726-04-09|       150|    1.68|     M|           7548|          NULL|\n",
      "|       15|     Cally|Henderson|       Sir|     NULL|3738-01-16|       110|    1.55|     F|            566|          NULL|\n",
      "|       16|      Karl|  Agathon|       Sir|     Helo|3724-08-17|       166|     1.8|     M|           5785|             4|\n",
      "|       17| Samuel T.|   Anders|       Sir|     NULL|3735-10-02|       180|    1.77|     M|            445|            13|\n",
      "+---------+----------+---------+----------+---------+----------+----------+--------+------+---------------+--------------+\n",
      "\n"
     ]
    }
   ],
   "source": [
    "bsg_people = spark.read.csv(dir + \"/csv/people.csv\", header=True, inferSchema=True) \\\n",
    "    .withColumnRenamed(\"id\", \"person_id\")\n",
    "\n",
    "bsg_colonies = spark.read.csv(dir + \"/csv/colonies.csv\", header=True) \\\n",
    "    .withColumnRenamed(\"id\", \"colony_id\") \\\n",
    "    .withColumnRenamed(\"name\", \"colony_name\")\n",
    "\n",
    "bsg_actions = spark.read.csv(dir + \"/csv/person_actions.csv\", header=True)\n",
    "\n",
    "bsg_employees = spark.read.csv(dir + \"/csv/employees.csv\", header=True) \\\n",
    "    .withColumnRenamed(\"id\", \"employee_id\") \\\n",
    "    .withColumnRenamed(\"person_id\", \"employee_person_id\")\n",
    "\n",
    "bsg_empoyers = spark.read.csv(dir + \"/csv/employers.csv\", header=True) \\\n",
    "    .withColumnRenamed(\"id\", \"employer_id\") \\\n",
    "    .withColumnRenamed(\"name\", \"employer_name\")\n",
    "\n",
    "bsg_departments = spark.read.csv(dir + \"/csv/departments.csv\", header=True) \\\n",
    "    .withColumnRenamed(\"id\", \"department_id\") \\\n",
    "    .withColumnRenamed(\"name\", \"department_name\")\n",
    "\n",
    "bsg_data = bsg_people \\\n",
    "    .join(bsg_colonies, bsg_people.home_colony_id == bsg_colonies.colony_id) \\\n",
    "    .join(bsg_actions, bsg_people.person_id == bsg_actions.source_person_id)\n",
    "\n",
    "bsg_data.show()\n",
    "bsg_data.createOrReplaceTempView(\"bsg_data\")\n",
    "bsg_data_count = spark.sql(\"SELECT colony_name, COUNT(DISTINCT(person_id)) personCount FROM bsg_data GROUP BY colony_name\")\n",
    "\n",
    "bsg_data_count.show()\n",
    "\n",
    "bsg_people.show()"
   ]
  },
  {
   "cell_type": "code",
   "execution_count": 6,
   "metadata": {},
   "outputs": [
    {
     "name": "stdout",
     "output_type": "stream",
     "text": [
      "+----------+---------+--------------------+--------+-----------+\n",
      "|first_name|last_name|     department_name|  salary|colony_name|\n",
      "+----------+---------+--------------------+--------+-----------+\n",
      "|       Lee|    Adama| Tactical Operations|120000.0|    Caprica|\n",
      "|   William|    Adama| Tactical Operations|150000.0|    Caprica|\n",
      "|      Kara|   Thrace|   Flight Operations| 90000.0|    Caprica|\n",
      "|     Gaius|   Baltar|Artificial Intell...|100000.0|    Aerilon|\n",
      "|     Laura|   Roslin|    Executive Branch|200000.0|    Caprica|\n",
      "|      Saul|     Tigh| Tactical Operations|110000.0|      Earth|\n",
      "|     Billy|  Keikeya|    Executive Branch| 85000.0|      Picon|\n",
      "|     Galen|    Tyrol|         Engineering| 95000.0|      Earth|\n",
      "| Anastasia|   Dualla| Tactical Operations| 87000.0| Sagittaron|\n",
      "|      Karl|  Agathon|   Flight Operations| 92000.0|    Caprica|\n",
      "| Samuel T.|   Anders|   Military Strategy|102000.0|      Earth|\n",
      "+----------+---------+--------------------+--------+-----------+\n",
      "\n",
      "+--------------------+----------+\n",
      "|     department_name|avg_salary|\n",
      "+--------------------+----------+\n",
      "|    Executive Branch|  142500.0|\n",
      "| Tactical Operations|  116750.0|\n",
      "|   Military Strategy|  102000.0|\n",
      "|Artificial Intell...|  100000.0|\n",
      "|         Engineering|   95000.0|\n",
      "|   Flight Operations|   91000.0|\n",
      "+--------------------+----------+\n",
      "\n",
      "+----------+---------+--------+--------------------+--------------------+-----------+\n",
      "|first_name|last_name|  salary|            position|     department_name|colony_name|\n",
      "+----------+---------+--------+--------------------+--------------------+-----------+\n",
      "|       Lee|    Adama|120000.0|           Commander| Tactical Operations|    Caprica|\n",
      "|   William|    Adama|150000.0|       Fleet Admiral| Tactical Operations|    Caprica|\n",
      "|      Kara|   Thrace| 90000.0|               Pilot|   Flight Operations|    Caprica|\n",
      "|     Gaius|   Baltar|100000.0|  Research Scientist|Artificial Intell...|    Aerilon|\n",
      "|     Laura|   Roslin|200000.0|           President|    Executive Branch|    Caprica|\n",
      "|      Saul|     Tigh|110000.0|   Executive Officer| Tactical Operations|      Earth|\n",
      "|     Billy|  Keikeya| 85000.0|      Chief of Staff|    Executive Branch|      Picon|\n",
      "|     Galen|    Tyrol| 95000.0|      Chief Engineer|         Engineering|      Earth|\n",
      "| Anastasia|   Dualla| 87000.0|Communications Of...| Tactical Operations| Sagittaron|\n",
      "|      Karl|  Agathon| 92000.0|               Pilot|   Flight Operations|    Caprica|\n",
      "| Samuel T.|   Anders|102000.0|   Resistance Leader|   Military Strategy|      Earth|\n",
      "+----------+---------+--------+--------------------+--------------------+-----------+\n",
      "\n",
      "None\n"
     ]
    }
   ],
   "source": [
    "all_employees = bsg_employees \\\n",
    "    .join(bsg_people, bsg_employees.employee_person_id == bsg_people.person_id) \\\n",
    "    .join(bsg_departments, bsg_employees.dept_id == bsg_departments.department_id) \\\n",
    "    .join(bsg_colonies, bsg_people.home_colony_id == bsg_colonies.colony_id)\n",
    "\n",
    "all_employees.select([\"first_name\", \"last_name\", \"department_name\", \"salary\", \"colony_name\"]).show()\n",
    "\n",
    "# average salary per department\n",
    "all_employees.select([\"department_name\", \"salary\"]) \\\n",
    "    .groupBy(\"department_name\") \\\n",
    "    .agg(avg(\"salary\").alias(\"avg_salary\")) \\\n",
    "    .sort(\"avg_salary\", ascending=False) \\\n",
    "    .show()\n",
    "\n",
    "df_cols = [\"first_name\", \"last_name\", \"salary\", \"position\", \"department_name\", \"colony_name\"]\n",
    "all_employees_df = all_employees.select(df_cols).toDF(*df_cols)\n",
    "\n",
    "print(all_employees_df.show())"
   ]
  },
  {
   "cell_type": "code",
   "execution_count": 7,
   "metadata": {},
   "outputs": [
    {
     "name": "stdout",
     "output_type": "stream",
     "text": [
      "  colony_name     avg_salary\n",
      "0     Caprica  130400.000000\n",
      "1       Earth  102333.333333\n",
      "2     Aerilon  100000.000000\n",
      "3  Sagittaron   87000.000000\n",
      "4       Picon   85000.000000\n"
     ]
    }
   ],
   "source": [
    "def avg_salary_mapper(row):\n",
    "    # print(row)\n",
    "    return (row.colony_name, (row.salary, 1))\n",
    "\n",
    "# average salary per colony\n",
    "res = all_employees_df.rdd \\\n",
    "    .map(lambda s: avg_salary_mapper(s)) \\\n",
    "    .reduceByKey(lambda a, b: (float(a[0]) + float(b[0]), float(a[1]) + float(b[1]))) \\\n",
    "    .mapValues(lambda s: float(s[0]) / float(s[1])) \\\n",
    "    .sortBy(lambda s: s[1], ascending=False) \\\n",
    "    .collect()\n",
    "\n",
    "df = pd.DataFrame(res, columns = [\"colony_name\", \"avg_salary\"])\n",
    "print(df)"
   ]
  },
  {
   "cell_type": "code",
   "execution_count": 8,
   "metadata": {},
   "outputs": [
    {
     "name": "stdout",
     "output_type": "stream",
     "text": [
      "            Name    Salary       Position           Department   Colony\n",
      "0    Kara Thrace   90000.0          Pilot    Flight Operations  Caprica\n",
      "1   Karl Agathon   92000.0          Pilot    Flight Operations  Caprica\n",
      "2      Lee Adama  120000.0      Commander  Tactical Operations  Caprica\n",
      "3  William Adama  150000.0  Fleet Admiral  Tactical Operations  Caprica\n",
      "4   Laura Roslin  200000.0      President     Executive Branch  Caprica\n"
     ]
    },
    {
     "name": "stderr",
     "output_type": "stream",
     "text": [
      "25/02/16 13:48:08 WARN GarbageCollectionMetrics: To enable non-built-in garbage collector(s) List(G1 Concurrent GC), users should configure it(them) to spark.eventLog.gcMetrics.youngGenerationGarbageCollectors or spark.eventLog.gcMetrics.oldGenerationGarbageCollectors\n"
     ]
    }
   ],
   "source": [
    "res = all_employees_df.rdd \\\n",
    "    .map(lambda s: (s.first_name + \" \" + s.last_name, s.salary, s.position, s.department_name, s.colony_name)) \\\n",
    "    .filter(lambda s: s[4] == \"Caprica\") \\\n",
    "    .sortBy(lambda s: float(s[1]), ascending=True) \\\n",
    "    .collect()\n",
    "\n",
    "\n",
    "df = pd.DataFrame(res, columns=[\"Name\", \"Salary\", \"Position\", \"Department\", \"Colony\"])\n",
    "print(df)"
   ]
  }
 ],
 "metadata": {
  "kernelspec": {
   "display_name": "bsg",
   "language": "python",
   "name": "python3"
  },
  "language_info": {
   "codemirror_mode": {
    "name": "ipython",
    "version": 3
   },
   "file_extension": ".py",
   "mimetype": "text/x-python",
   "name": "python",
   "nbconvert_exporter": "python",
   "pygments_lexer": "ipython3",
   "version": "3.12.8"
  }
 },
 "nbformat": 4,
 "nbformat_minor": 2
}
