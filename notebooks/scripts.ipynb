{
 "cells": [
  {
   "cell_type": "code",
   "execution_count": 1,
   "metadata": {},
   "outputs": [],
   "source": [
    "import requests\n",
    "from bs4 import BeautifulSoup\n",
    "\n",
    "get_all_episodes = False\n",
    "\n",
    "for i in range(1, 14):\n",
    "    \n",
    "    if not get_all_episodes:\n",
    "        break\n",
    "    \n",
    "    episode_name = \"s01e\"\n",
    "\n",
    "    if i < 10:\n",
    "        episode_name = episode_name + \"0\" + str(i)\n",
    "    else:\n",
    "        episode_name = episode_name + str(i)\n",
    "\n",
    "    # Step 1: Download the webpage\n",
    "    url = 'https://www.springfieldspringfield.co.uk/view_episode_scripts.php?tv-show=battlestar-galactica&episode=' + episode_name  # Replace with your target URL\n",
    "    response = requests.get(url)\n",
    "    response.raise_for_status()  # Check if the request was successful\n",
    "\n",
    "    # Step 2: Parse the downloaded HTML content\n",
    "    soup = BeautifulSoup(response.text, 'html.parser')\n",
    "\n",
    "    # Step 3: Use a CSS selector to find the desired data\n",
    "    css_selector = '.scrolling-script-container'  # Replace with your CSS selector\n",
    "    elements = soup.select(css_selector)\n",
    "\n",
    "    file_name = \"../episodes/\" + episode_name + \".txt\"\n",
    "    with open(file_name, 'w', encoding='utf-8') as output_file:\n",
    "        for element in elements:\n",
    "            output_file.write(element.get_text() + '\\n')\n",
    "\n",
    "    print(file_name + ' saved to output.txt')\n",
    "\n"
   ]
  },
  {
   "cell_type": "code",
   "execution_count": null,
   "metadata": {},
   "outputs": [],
   "source": [
    "import os\n",
    "\n",
    "# Directory containing the .txt files\n",
    "directory = '../episodes'  # Replace with your directory path\n",
    "\n",
    "# Output file\n",
    "output_file = '../seasons/s01.txt'\n",
    "\n",
    "# Open the output file in write mode\n",
    "with open(output_file, 'w', encoding='utf-8') as outfile:\n",
    "    # Iterate over all files in the directory\n",
    "    for filename in os.listdir(directory):\n",
    "        # Check if the file is a .txt file\n",
    "        if filename.endswith('.txt'):\n",
    "            file_path = os.path.join(directory, filename)\n",
    "            # Open and read the content of the .txt file\n",
    "            with open(file_path, 'r', encoding='utf-8') as infile:\n",
    "                content = infile.read()\n",
    "                # Write the content to the output file\n",
    "                outfile.write(content + '\\n')\n",
    "\n",
    "print(f'All .txt files have been concatenated into {output_file}')"
   ]
  }
 ],
 "metadata": {
  "kernelspec": {
   "display_name": "bsg",
   "language": "python",
   "name": "python3"
  },
  "language_info": {
   "codemirror_mode": {
    "name": "ipython",
    "version": 3
   },
   "file_extension": ".py",
   "mimetype": "text/x-python",
   "name": "python",
   "nbconvert_exporter": "python",
   "pygments_lexer": "ipython3",
   "version": "3.12.8"
  }
 },
 "nbformat": 4,
 "nbformat_minor": 2
}
