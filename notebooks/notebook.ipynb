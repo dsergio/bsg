{
 "cells": [
  {
   "cell_type": "code",
   "execution_count": 6,
   "metadata": {},
   "outputs": [],
   "source": [
    "import pyspark\n",
    "from pyspark.sql import *\n",
    "from pyspark import SparkContext, SparkConf\n",
    "\n",
    "from pyspark.sql import *\n",
    "from pyspark.sql.functions import *\n",
    "\n",
    "import pandas as pd\n",
    "import sqlite3"
   ]
  },
  {
   "cell_type": "code",
   "execution_count": 37,
   "metadata": {},
   "outputs": [],
   "source": [
    "conf = SparkConf().setAppName(\"appName\").setMaster(\"local\")\n",
    "sc = SparkContext(conf=conf)\n",
    "\n",
    "spark = SparkSession.builder.getOrCreate()\n"
   ]
  },
  {
   "cell_type": "code",
   "execution_count": 88,
   "metadata": {},
   "outputs": [
    {
     "name": "stdout",
     "output_type": "stream",
     "text": [
      "Error occurred while running the script: Command '['bash', '../generate_db.sh']' returned non-zero exit status 1.\n"
     ]
    }
   ],
   "source": [
    "\n",
    "import os.path\n",
    "from os import listdir\n",
    "from os.path import isfile, join\n",
    "\n",
    "import subprocess\n",
    "\n",
    "files = [\n",
    "\t\"people.sql\", \n",
    "\t\"cylons.sql\", \n",
    "\t\"colonies.sql\", \n",
    "\t\"person_kills.sql\"\n",
    "]\n",
    "\n",
    "content = \"\"\n",
    "\n",
    "for filename in files:\n",
    "\tfilename = \"../sql/\" + filename\n",
    "\tif not os.path.isfile(filename):\n",
    "\t\tprint('File does not exist: ' + filename)\n",
    "\telse:\n",
    "\t    with open(filename) as f:\n",
    "\t        content = content + f.read()\n",
    "\n",
    "f = open(\"../sql/generated/simple.sql\", \"w\")\n",
    "f.write(content)\n",
    "f.close()\n",
    "\n",
    "db_command_file = \"../generate_db.sh\"\n",
    "db_command = \"sqlite3 ../simple.db < ../sql/generated/simple.sql\"\n",
    "\n",
    "with open(db_command_file, \"w\") as file:\n",
    "    file.write(db_command)\n",
    "\n",
    "try:\n",
    "    result = subprocess.run([\"bash\", db_command_file], check=True, text=True, capture_output=True)\n",
    "    print(\"Shell script output:\", result.stdout)\n",
    "except subprocess.CalledProcessError as e:\n",
    "    print(\"Error occurred while running the script:\", e)\n"
   ]
  },
  {
   "cell_type": "code",
   "execution_count": 80,
   "metadata": {},
   "outputs": [],
   "source": [
    "\n",
    "conn = sqlite3.connect(\"../simple.db\")"
   ]
  },
  {
   "cell_type": "code",
   "execution_count": 82,
   "metadata": {},
   "outputs": [
    {
     "name": "stdout",
     "output_type": "stream",
     "text": [
      "type: \n",
      "Int64\n",
      "df_people\n",
      "   id first_name last_name salutation call_sign  home_colony_id\n",
      "0   1        Lee     Adama        Sir    Apollo               4\n",
      "1   2    William     Adama        Sir    Husker               4\n",
      "2   3       Kara    Thrace        Sir  Starbuck               4\n",
      "3   4      Gaius    Baltar        Dr.      None               1\n",
      "4   5      Laura    Roslin        Ms.      None               4\n",
      "\n",
      "df_colonies\n",
      "   id      name\n",
      "0   1   Aerilon\n",
      "1   2   Aquaria\n",
      "2   3  Canceron\n",
      "3   4   Caprica\n",
      "4   5   Gemenon\n",
      "\n",
      "df_cylons\n",
      "   id  model_number       type gender\n",
      "0   1           NaN  IL-series   None\n",
      "1   2           NaN  centurion   None\n",
      "2   3           NaN     raider   None\n",
      "3   4           1.0   humanoid    man\n",
      "4   5           2.0   humanoid    man\n",
      "\n",
      "df_person_kills\n",
      "Empty DataFrame\n",
      "Columns: [person_killer_id, person_victim_id, cylon_victim_id]\n",
      "Index: []\n"
     ]
    }
   ],
   "source": [
    "\n",
    "df_people = pd.read_sql_query(\"SELECT * FROM people\", conn, dtype={\"home_colony_id\": \"Int64\"})\n",
    "df_colonies = pd.read_sql_query(\"SELECT * FROM colonies\", conn)\n",
    "df_cylons = pd.read_sql_query(\"SELECT * FROM cylons\", conn)\n",
    "df_person_kills = pd.read_sql_query(\"SELECT * FROM person_kills\", conn)\n",
    "\n",
    "print(\"type: \")\n",
    "print(df_people[\"home_colony_id\"].dtype)\n",
    "\n",
    "\n",
    "\n",
    "print(\"df_people\")\n",
    "print(df_people.head())\n",
    "print()\n",
    "print(\"df_colonies\")\n",
    "print(df_colonies.head())\n",
    "print()\n",
    "print(\"df_cylons\")\n",
    "print(df_cylons.head())\n",
    "print()\n",
    "print(\"df_person_kills\")\n",
    "print(df_person_kills.head())\n",
    "\n",
    "df_people.to_csv(\"people.csv\", index=False)\n",
    "df_colonies.to_csv(\"colonies.csv\", index=False)\n"
   ]
  },
  {
   "cell_type": "code",
   "execution_count": null,
   "metadata": {},
   "outputs": [],
   "source": [
    "\n",
    "rdd_people = sc.parallelize(df_people.values.tolist())\n",
    "\n",
    "rdd_people.collect()"
   ]
  },
  {
   "cell_type": "code",
   "execution_count": 51,
   "metadata": {},
   "outputs": [
    {
     "name": "stdout",
     "output_type": "stream",
     "text": [
      "+---+----------+---------+----------+---------+--------------+---+----------+\n",
      "| id|first_name|last_name|salutation|call_sign|home_colony_id| id|      name|\n",
      "+---+----------+---------+----------+---------+--------------+---+----------+\n",
      "|  1|       Lee|    Adama|       Sir|   Apollo|             4|  4|   Caprica|\n",
      "|  2|   William|    Adama|       Sir|   Husker|             4|  4|   Caprica|\n",
      "|  3|      Kara|   Thrace|       Sir| Starbuck|             4|  4|   Caprica|\n",
      "|  4|     Gaius|   Baltar|       Dr.|     NULL|             1|  1|   Aerilon|\n",
      "|  5|     Laura|   Roslin|       Ms.|     NULL|             4|  4|   Caprica|\n",
      "|  9|      Saul|     Tigh|       Sir|     NULL|            13| 13|     Earth|\n",
      "| 11|     Billy|  Keikeya|       Mr.|     NULL|             8|  8|     Picon|\n",
      "| 12|     Galen|    Tyrol|       Sir|     NULL|            13| 13|     Earth|\n",
      "| 13| Anastasia|   Dualla|       Sir|     NULL|             9|  9|Sagittaron|\n",
      "| 16|      Karl|  Agathon|       Sir|     Helo|             4|  4|   Caprica|\n",
      "| 17| Samuel T.|   Anders|       Sir|     NULL|            13| 13|     Earth|\n",
      "+---+----------+---------+----------+---------+--------------+---+----------+\n",
      "\n"
     ]
    }
   ],
   "source": [
    "bsg_people = spark.read.csv(\"people.csv\", header=True)\n",
    "bsg_colonies = spark.read.csv(\"colonies.csv\", header=True)\n",
    "\n",
    "bsg_data = bsg_people.join(bsg_colonies, bsg_people.home_colony_id == bsg_colonies.id)\n",
    "\n",
    "bsg_data.show()"
   ]
  },
  {
   "cell_type": "code",
   "execution_count": 52,
   "metadata": {},
   "outputs": [
    {
     "name": "stdout",
     "output_type": "stream",
     "text": [
      "+--------------+-----+\n",
      "|home_colony_id|count|\n",
      "+--------------+-----+\n",
      "|             4|    5|\n",
      "|            13|    3|\n",
      "|             8|    1|\n",
      "|             9|    1|\n",
      "|             1|    1|\n",
      "+--------------+-----+\n",
      "\n"
     ]
    }
   ],
   "source": [
    "colony_counts = bsg_data.groupBy(\"home_colony_id\").count().sort(desc(\"count\"))\n",
    "\n",
    "colony_counts.show()"
   ]
  },
  {
   "cell_type": "code",
   "execution_count": 36,
   "metadata": {},
   "outputs": [],
   "source": [
    "conn.close()\n",
    "sc.stop()"
   ]
  }
 ],
 "metadata": {
  "kernelspec": {
   "display_name": "bsg",
   "language": "python",
   "name": "python3"
  },
  "language_info": {
   "codemirror_mode": {
    "name": "ipython",
    "version": 3
   },
   "file_extension": ".py",
   "mimetype": "text/x-python",
   "name": "python",
   "nbconvert_exporter": "python",
   "pygments_lexer": "ipython3",
   "version": "3.12.8"
  }
 },
 "nbformat": 4,
 "nbformat_minor": 2
}
