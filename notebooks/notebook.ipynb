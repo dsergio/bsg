{
 "cells": [
  {
   "cell_type": "code",
   "execution_count": 1,
   "metadata": {},
   "outputs": [],
   "source": [
    "import pyspark\n",
    "from pyspark.sql import *\n",
    "from pyspark import SparkContext, SparkConf\n",
    "\n",
    "from pyspark.sql import *\n",
    "from pyspark.sql.functions import *\n",
    "\n",
    "import pandas as pd\n",
    "import sqlite3"
   ]
  },
  {
   "cell_type": "code",
   "execution_count": 2,
   "metadata": {},
   "outputs": [
    {
     "name": "stderr",
     "output_type": "stream",
     "text": [
      "25/01/21 11:56:48 WARN Utils: Your hostname, Davids-MacBook-Pro.local resolves to a loopback address: 127.0.0.1; using 10.101.169.23 instead (on interface en0)\n",
      "25/01/21 11:56:48 WARN Utils: Set SPARK_LOCAL_IP if you need to bind to another address\n",
      "Setting default log level to \"WARN\".\n",
      "To adjust logging level use sc.setLogLevel(newLevel). For SparkR, use setLogLevel(newLevel).\n",
      "25/01/21 11:56:49 WARN NativeCodeLoader: Unable to load native-hadoop library for your platform... using builtin-java classes where applicable\n"
     ]
    }
   ],
   "source": [
    "conf = SparkConf().setAppName(\"appName\").setMaster(\"local\")\n",
    "sc = SparkContext(conf=conf)\n",
    "spark = SparkSession.builder.getOrCreate()"
   ]
  },
  {
   "cell_type": "code",
   "execution_count": null,
   "metadata": {},
   "outputs": [],
   "source": [
    "import os.path\n",
    "from os import listdir\n",
    "from os.path import isfile, join\n",
    "\n",
    "import subprocess\n",
    "import yaml\n",
    "\n",
    "# Add the parent directory to the system path\n",
    "parent_dir = os.path.abspath(os.path.join(os.getcwd(), os.pardir))\n",
    "sys.path.append(parent_dir)\n"
   ]
  },
  {
   "cell_type": "code",
   "execution_count": 63,
   "metadata": {},
   "outputs": [
    {
     "ename": "NameError",
     "evalue": "name 'generate_actions_sql' is not defined",
     "output_type": "error",
     "traceback": [
      "\u001b[0;31m---------------------------------------------------------------------------\u001b[0m",
      "\u001b[0;31mNameError\u001b[0m                                 Traceback (most recent call last)",
      "Cell \u001b[0;32mIn[63], line 3\u001b[0m\n\u001b[1;32m      1\u001b[0m \u001b[38;5;28;01mfrom\u001b[39;00m\u001b[38;5;250m \u001b[39m\u001b[38;5;21;01msrc\u001b[39;00m\u001b[38;5;21;01m.\u001b[39;00m\u001b[38;5;21;01mutils\u001b[39;00m\u001b[38;5;250m \u001b[39m\u001b[38;5;28;01mimport\u001b[39;00m \u001b[38;5;241m*\u001b[39m\n\u001b[0;32m----> 3\u001b[0m \u001b[38;5;28mprint\u001b[39m(\u001b[43mgenerate_actions_sql\u001b[49m(\u001b[38;5;241m1\u001b[39m, [\u001b[38;5;241m1\u001b[39m, \u001b[38;5;241m2\u001b[39m]))\n",
      "\u001b[0;31mNameError\u001b[0m: name 'generate_actions_sql' is not defined"
     ]
    }
   ],
   "source": [
    "from src.utils import *\n",
    "\n",
    "print(generate_actions_sql(1, [1, 2]))"
   ]
  },
  {
   "cell_type": "code",
   "execution_count": null,
   "metadata": {},
   "outputs": [],
   "source": [
    "\n",
    "\n",
    "print(\"Current working directory set to:\", os.getcwd())\n",
    "\n",
    "# Read the config.yaml file\n",
    "if os.path.exists('config.yaml'):\n",
    "    with open('config.yaml', 'r') as file:\n",
    "        config = yaml.safe_load(file)\n",
    "\n",
    "if os.path.exists('../config.yaml'):\n",
    "    with open('../config.yaml', 'r') as file:\n",
    "        config = yaml.safe_load(file)\n",
    "\n",
    "dir = config['fileio']['working_directory1']\n",
    "\n",
    "print(\"dir: \" + dir)\n",
    "\n",
    "# Set the current working directory\n",
    "os.chdir(dir)\n",
    "print(\"Current working directory set to:\", os.getcwd())"
   ]
  },
  {
   "cell_type": "code",
   "execution_count": 46,
   "metadata": {},
   "outputs": [
    {
     "name": "stdout",
     "output_type": "stream",
     "text": [
      "db construct successful: \n"
     ]
    }
   ],
   "source": [
    "sql_definitions = [\n",
    "\t\"people.sql\", \n",
    "\t\"cylons.sql\", \n",
    "\t\"colonies.sql\", \n",
    "\t\"person_actions.sql\"\n",
    "]\n",
    "\n",
    "sql_content = \"\"\n",
    "\n",
    "for filename in sql_definitions:\n",
    "\tfilename = dir + \"/sql/definitions/\" + filename\n",
    "\tif not os.path.isfile(filename):\n",
    "\t\tprint('File does not exist: ' + filename)\n",
    "\telse:\n",
    "\t    with open(filename) as f:\n",
    "\t        sql_content = sql_content + f.read()\n",
    "\n",
    "f = open(dir + \"/sql/generated/simple.sql\", \"w\")\n",
    "f.write(sql_content)\n",
    "f.close()\n",
    "\n",
    "db_command_file = dir + \"/generate_db.sh\"\n",
    "db_command = \"sqlite3 \" + dir + \"/db/simple.db < \" + dir + \"/sql/generated/simple.sql\"\n",
    "\n",
    "with open(db_command_file, \"w\") as file:\n",
    "    file.write(db_command)\n",
    "\n",
    "try:\n",
    "    result = subprocess.run([\"bash\", db_command_file], check=True, text=True, capture_output=True)\n",
    "    print(\"db construct successful:\", result.stdout)\n",
    "except subprocess.CalledProcessError as e:\n",
    "    print(\"db construct error:\", e)\n"
   ]
  },
  {
   "cell_type": "code",
   "execution_count": 31,
   "metadata": {},
   "outputs": [],
   "source": [
    "\n",
    "conn = sqlite3.connect(dir + \"/db/simple.db\")"
   ]
  },
  {
   "cell_type": "code",
   "execution_count": 32,
   "metadata": {},
   "outputs": [
    {
     "name": "stdout",
     "output_type": "stream",
     "text": [
      "type: \n",
      "Int64\n",
      "df_people\n",
      "   id first_name last_name salutation call_sign  home_colony_id\n",
      "0   1        Lee     Adama        Sir    Apollo               4\n",
      "1   2    William     Adama        Sir    Husker               4\n",
      "2   3       Kara    Thrace        Sir  Starbuck               4\n",
      "3   4      Gaius    Baltar        Dr.      None               1\n",
      "4   5      Laura    Roslin        Ms.      None               4\n",
      "\n",
      "df_colonies\n",
      "   id      name\n",
      "0   1   Aerilon\n",
      "1   2   Aquaria\n",
      "2   3  Canceron\n",
      "3   4   Caprica\n",
      "4   5   Gemenon\n",
      "\n",
      "df_cylons\n",
      "   id  model_number       type gender\n",
      "0   1           NaN  IL-series   None\n",
      "1   2           NaN  centurion   None\n",
      "2   3           NaN     raider   None\n",
      "3   4           1.0   humanoid    man\n",
      "4   5           2.0   humanoid    man\n",
      "\n",
      "df_person_kills\n",
      "   person_killer_id person_victim_id  cylon_victim_id\n",
      "0                 3             None                3\n"
     ]
    }
   ],
   "source": [
    "\n",
    "df_people = pd.read_sql_query(\"SELECT * FROM people\", conn, dtype={\"home_colony_id\": \"Int64\"})\n",
    "df_colonies = pd.read_sql_query(\"SELECT * FROM colonies\", conn)\n",
    "df_cylons = pd.read_sql_query(\"SELECT * FROM cylons\", conn)\n",
    "df_person_kills = pd.read_sql_query(\"SELECT * FROM person_kills\", conn)\n",
    "\n",
    "print(\"type: \")\n",
    "print(df_people[\"home_colony_id\"].dtype)\n",
    "\n",
    "print(\"df_people\")\n",
    "print(df_people.head())\n",
    "print()\n",
    "print(\"df_colonies\")\n",
    "print(df_colonies.head())\n",
    "print()\n",
    "print(\"df_cylons\")\n",
    "print(df_cylons.head())\n",
    "print()\n",
    "print(\"df_person_kills\")\n",
    "print(df_person_kills.head())\n",
    "\n",
    "df_people.to_csv(dir  + \"/csv/people.csv\", index=False)\n",
    "df_colonies.to_csv(dir  + \"/csv/colonies.csv\", index=False)\n",
    "df_person_kills.to_csv(dir  + \"/csv/person_kills.csv\", index=False)\n"
   ]
  },
  {
   "cell_type": "code",
   "execution_count": null,
   "metadata": {},
   "outputs": [],
   "source": [
    "\n",
    "rdd_people = sc.parallelize(df_people.values.tolist())\n",
    "\n",
    "rdd_people.collect()"
   ]
  },
  {
   "cell_type": "code",
   "execution_count": 51,
   "metadata": {},
   "outputs": [
    {
     "name": "stdout",
     "output_type": "stream",
     "text": [
      "+---+----------+---------+----------+---------+--------------+---+----------+\n",
      "| id|first_name|last_name|salutation|call_sign|home_colony_id| id|      name|\n",
      "+---+----------+---------+----------+---------+--------------+---+----------+\n",
      "|  1|       Lee|    Adama|       Sir|   Apollo|             4|  4|   Caprica|\n",
      "|  2|   William|    Adama|       Sir|   Husker|             4|  4|   Caprica|\n",
      "|  3|      Kara|   Thrace|       Sir| Starbuck|             4|  4|   Caprica|\n",
      "|  4|     Gaius|   Baltar|       Dr.|     NULL|             1|  1|   Aerilon|\n",
      "|  5|     Laura|   Roslin|       Ms.|     NULL|             4|  4|   Caprica|\n",
      "|  9|      Saul|     Tigh|       Sir|     NULL|            13| 13|     Earth|\n",
      "| 11|     Billy|  Keikeya|       Mr.|     NULL|             8|  8|     Picon|\n",
      "| 12|     Galen|    Tyrol|       Sir|     NULL|            13| 13|     Earth|\n",
      "| 13| Anastasia|   Dualla|       Sir|     NULL|             9|  9|Sagittaron|\n",
      "| 16|      Karl|  Agathon|       Sir|     Helo|             4|  4|   Caprica|\n",
      "| 17| Samuel T.|   Anders|       Sir|     NULL|            13| 13|     Earth|\n",
      "+---+----------+---------+----------+---------+--------------+---+----------+\n",
      "\n"
     ]
    }
   ],
   "source": [
    "bsg_people = spark.read.csv(\"people.csv\", header=True)\n",
    "bsg_colonies = spark.read.csv(\"colonies.csv\", header=True)\n",
    "\n",
    "bsg_data = bsg_people.join(bsg_colonies, bsg_people.home_colony_id == bsg_colonies.id)\n",
    "\n",
    "bsg_data.show()"
   ]
  },
  {
   "cell_type": "code",
   "execution_count": 52,
   "metadata": {},
   "outputs": [
    {
     "name": "stdout",
     "output_type": "stream",
     "text": [
      "+--------------+-----+\n",
      "|home_colony_id|count|\n",
      "+--------------+-----+\n",
      "|             4|    5|\n",
      "|            13|    3|\n",
      "|             8|    1|\n",
      "|             9|    1|\n",
      "|             1|    1|\n",
      "+--------------+-----+\n",
      "\n"
     ]
    }
   ],
   "source": [
    "colony_counts = bsg_data.groupBy(\"home_colony_id\").count().sort(desc(\"count\"))\n",
    "\n",
    "colony_counts.show()"
   ]
  },
  {
   "cell_type": "code",
   "execution_count": 36,
   "metadata": {},
   "outputs": [],
   "source": [
    "conn.close()\n",
    "sc.stop()"
   ]
  }
 ],
 "metadata": {
  "kernelspec": {
   "display_name": "bsg",
   "language": "python",
   "name": "python3"
  },
  "language_info": {
   "codemirror_mode": {
    "name": "ipython",
    "version": 3
   },
   "file_extension": ".py",
   "mimetype": "text/x-python",
   "name": "python",
   "nbconvert_exporter": "python",
   "pygments_lexer": "ipython3",
   "version": "3.9.21"
  }
 },
 "nbformat": 4,
 "nbformat_minor": 2
}
