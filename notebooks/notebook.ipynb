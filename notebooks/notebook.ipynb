{
 "cells": [
  {
   "cell_type": "code",
   "execution_count": 6,
   "metadata": {},
   "outputs": [],
   "source": [
    "import pyspark\n",
    "from pyspark.sql import *\n",
    "from pyspark import SparkContext, SparkConf\n",
    "\n",
    "from pyspark.sql import *\n",
    "from pyspark.sql.functions import *\n",
    "\n",
    "import pandas as pd\n",
    "import sqlite3"
   ]
  },
  {
   "cell_type": "code",
   "execution_count": 37,
   "metadata": {},
   "outputs": [],
   "source": [
    "conf = SparkConf().setAppName(\"appName\").setMaster(\"local\")\n",
    "sc = SparkContext(conf=conf)\n",
    "\n",
    "spark = SparkSession.builder.getOrCreate()\n"
   ]
  },
  {
   "cell_type": "code",
   "execution_count": 46,
   "metadata": {},
   "outputs": [],
   "source": [
    "\n",
    "conn = sqlite3.connect(\"../simple.db\")"
   ]
  },
  {
   "cell_type": "code",
   "execution_count": 49,
   "metadata": {},
   "outputs": [
    {
     "name": "stdout",
     "output_type": "stream",
     "text": [
      "type: \n",
      "float64\n",
      "df_people\n",
      "   id first_name last_name salutation call_sign  home_colony_id\n",
      "0   1        Lee     Adama        Sir    Apollo             4.0\n",
      "1   2    William     Adama        Sir    Husker             4.0\n",
      "2   3       Kara    Thrace        Sir  Starbuck             4.0\n",
      "3   4      Gaius    Baltar        Dr.      None             1.0\n",
      "4   5      Laura    Roslin        Ms.      None             4.0\n",
      "\n",
      "df_colonies\n",
      "   id      name\n",
      "0   1   Aerilon\n",
      "1   2   Aquaria\n",
      "2   3  Canceron\n",
      "3   4   Caprica\n",
      "4   5   Gemenon\n"
     ]
    }
   ],
   "source": [
    "\n",
    "df_people = pd.read_sql_query(\"SELECT * FROM people\", conn, dtype={\"home_colony_id\": \"Int64\"})\n",
    "\n",
    "print(\"type: \")\n",
    "print(df_people[\"home_colony_id\"].dtype)\n",
    "\n",
    "df_colonies = pd.read_sql_query(\"SELECT * FROM colonies\", conn)\n",
    "\n",
    "print(\"df_people\")\n",
    "print(df_people.head())\n",
    "print()\n",
    "print(\"df_colonies\")\n",
    "print(df_colonies.head())\n",
    "\n",
    "df_people.to_csv(\"people.csv\", index=False)\n",
    "df_colonies.to_csv(\"colonies.csv\", index=False)\n"
   ]
  },
  {
   "cell_type": "code",
   "execution_count": null,
   "metadata": {},
   "outputs": [],
   "source": [
    "\n",
    "rdd_people = sc.parallelize(df_people.values.tolist())\n",
    "\n",
    "rdd_people.collect()"
   ]
  },
  {
   "cell_type": "code",
   "execution_count": 29,
   "metadata": {},
   "outputs": [
    {
     "name": "stdout",
     "output_type": "stream",
     "text": [
      "+---+----------+---------+----------+---------+--------------+---+----+\n",
      "| id|first_name|last_name|salutation|call_sign|home_colony_id| id|name|\n",
      "+---+----------+---------+----------+---------+--------------+---+----+\n",
      "+---+----------+---------+----------+---------+--------------+---+----+\n",
      "\n"
     ]
    }
   ],
   "source": [
    "bsg_people = spark.read.csv(\"people.csv\", header=True)\n",
    "bsg_colonies = spark.read.csv(\"colonies.csv\", header=True)\n",
    "\n",
    "bsg_data = bsg_people.join(bsg_colonies, bsg_people.home_colony_id == bsg_colonies.id)\n",
    "\n",
    "bsg_data.show()"
   ]
  },
  {
   "cell_type": "code",
   "execution_count": 21,
   "metadata": {},
   "outputs": [
    {
     "name": "stdout",
     "output_type": "stream",
     "text": [
      "+--------------+-----+\n",
      "|home_colony_id|count|\n",
      "+--------------+-----+\n",
      "|          NULL|    6|\n",
      "|           4.0|    5|\n",
      "|          13.0|    3|\n",
      "|           1.0|    1|\n",
      "|           9.0|    1|\n",
      "|           8.0|    1|\n",
      "+--------------+-----+\n",
      "\n"
     ]
    }
   ],
   "source": [
    "colony_counts = bsg_data.groupBy(\"home_colony_id\").count().sort(desc(\"count\"))\n",
    "\n",
    "colony_counts.show()"
   ]
  },
  {
   "cell_type": "code",
   "execution_count": 36,
   "metadata": {},
   "outputs": [],
   "source": [
    "conn.close()\n",
    "sc.stop()"
   ]
  }
 ],
 "metadata": {
  "kernelspec": {
   "display_name": "bsg",
   "language": "python",
   "name": "python3"
  },
  "language_info": {
   "codemirror_mode": {
    "name": "ipython",
    "version": 3
   },
   "file_extension": ".py",
   "mimetype": "text/x-python",
   "name": "python",
   "nbconvert_exporter": "python",
   "pygments_lexer": "ipython3",
   "version": "3.12.8"
  }
 },
 "nbformat": 4,
 "nbformat_minor": 2
}
