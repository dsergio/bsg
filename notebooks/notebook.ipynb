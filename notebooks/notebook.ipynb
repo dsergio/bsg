{
 "cells": [
  {
   "cell_type": "code",
   "execution_count": 24,
   "metadata": {},
   "outputs": [],
   "source": [
    "import pyspark\n",
    "from pyspark.sql import *\n",
    "from pyspark import SparkContext, SparkConf\n",
    "\n",
    "import pandas as pd\n",
    "import sqlite3"
   ]
  },
  {
   "cell_type": "code",
   "execution_count": 25,
   "metadata": {},
   "outputs": [],
   "source": [
    "conf = SparkConf().setAppName(\"appName\").setMaster(\"local\")\n",
    "sc = SparkContext(conf=conf)\n",
    "\n",
    "conn = sqlite3.connect(\"../bsg_simple.db\")"
   ]
  },
  {
   "cell_type": "code",
   "execution_count": 30,
   "metadata": {},
   "outputs": [
    {
     "name": "stdout",
     "output_type": "stream",
     "text": [
      "   id first_name last_name salutation call_sign  home_colony_id\n",
      "0   1        Lee     Adama        Sir    Apollo             4.0\n",
      "1   2    William     Adama        Sir    Husker             4.0\n",
      "2   3       Kara    Thrace        Sir  Starbuck             4.0\n",
      "3   4      Gaius    Baltar        Dr.      None             1.0\n",
      "4   5      Laura    Roslin        Ms.      None             4.0\n"
     ]
    },
    {
     "data": {
      "text/plain": [
       "[[1, 'Lee', 'Adama', 'Sir', 'Apollo', 4.0],\n",
       " [2, 'William', 'Adama', 'Sir', 'Husker', 4.0],\n",
       " [3, 'Kara', 'Thrace', 'Sir', 'Starbuck', 4.0],\n",
       " [4, 'Gaius', 'Baltar', 'Dr.', None, 1.0],\n",
       " [5, 'Laura', 'Roslin', 'Ms.', None, 4.0],\n",
       " [6, 'Leoben', 'Conoy', 'Mr.', None, nan],\n",
       " [7, 'Sharon', 'Valerii', 'Sir', 'Boomer', nan],\n",
       " [8, 'Sharon', 'Agathon', 'Sir', 'Athena', nan],\n",
       " [9, 'Saul', 'Tigh', 'Sir', None, 13.0],\n",
       " [10, 'Aaron', 'Doral', 'Mr.', None, nan],\n",
       " [11, 'Billy', 'Keikeya', 'Mr.', None, 8.0],\n",
       " [12, 'Galen', 'Tyrol', 'Sir', None, 13.0],\n",
       " [13, 'Anastasia', 'Dualla', 'Sir', None, 9.0],\n",
       " [14, 'Felix', 'Gaeta', 'Sir', None, nan],\n",
       " [15, 'Cally', 'Henderson', 'Sir', None, nan],\n",
       " [16, 'Karl', 'Agathon', 'Sir', 'Helo', 4.0],\n",
       " [17, 'Samuel T.', 'Anders', 'Sir', None, 13.0]]"
      ]
     },
     "execution_count": 30,
     "metadata": {},
     "output_type": "execute_result"
    }
   ],
   "source": [
    "query = \"SELECT * FROM people\"\n",
    "\n",
    "# Read data into a pandas DataFrame\n",
    "df_people = pd.read_sql_query(query, conn)\n",
    "\n",
    "# Show the DataFrame\n",
    "print(df_people.head())\n",
    "\n",
    "rdd_people = sc.parallelize(df_people.values.tolist())\n",
    "\n",
    "rdd_people.collect()"
   ]
  },
  {
   "cell_type": "code",
   "execution_count": 23,
   "metadata": {},
   "outputs": [],
   "source": [
    "conn.close()\n",
    "sc.stop()"
   ]
  }
 ],
 "metadata": {
  "kernelspec": {
   "display_name": "bsg",
   "language": "python",
   "name": "python3"
  },
  "language_info": {
   "codemirror_mode": {
    "name": "ipython",
    "version": 3
   },
   "file_extension": ".py",
   "mimetype": "text/x-python",
   "name": "python",
   "nbconvert_exporter": "python",
   "pygments_lexer": "ipython3",
   "version": "3.9.21"
  }
 },
 "nbformat": 4,
 "nbformat_minor": 2
}
