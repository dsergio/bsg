{
 "cells": [
  {
   "cell_type": "code",
   "execution_count": 18,
   "metadata": {},
   "outputs": [
    {
     "name": "stdout",
     "output_type": "stream",
     "text": [
      "/home/ho-yu/bsg\n"
     ]
    }
   ],
   "source": [
    "\n",
    "import numpy as np\n",
    "import pandas as pd\n",
    "\n",
    "from numpy.random import rand as rand\n",
    "from numpy.random import seed as seed\n",
    "import matplotlib.pyplot as plt\n",
    "from IPython.display import clear_output\n",
    "\n",
    "import sys\n",
    "import os\n",
    "\n",
    "sys.path.append('..')\n",
    "from src.utils import MyUtils\n",
    "\n",
    "if (sys.modules.get('src.logistic_regression') is not None): \n",
    "    del sys.modules['src.logistic_regression']\n",
    "import src.logistic_regression as logic\n",
    "\n",
    "\n",
    "# Add the parent directory to the system path\n",
    "parent_dir = os.path.abspath(os.path.join(os.getcwd(), os.pardir))\n",
    "sys.path.append(parent_dir)\n",
    "\n",
    "print(parent_dir)"
   ]
  },
  {
   "cell_type": "code",
   "execution_count": 25,
   "metadata": {},
   "outputs": [
    {
     "name": "stdout",
     "output_type": "stream",
     "text": [
      "ionosphere/hello\n"
     ]
    }
   ],
   "source": [
    "data_set = 'ionosphere'\n",
    "\n",
    "print(data_set+'/'+'hello')"
   ]
  },
  {
   "cell_type": "code",
   "execution_count": 11,
   "metadata": {},
   "outputs": [
    {
     "name": "stdout",
     "output_type": "stream",
     "text": [
      "(17, 3)\n",
      "(17, 1)\n",
      "(20, 3)\n",
      "(20, 1)\n"
     ]
    }
   ],
   "source": [
    "# READ in data\n",
    "# df_X_train = pd.read_csv(data_set+'/'+'X_train.csv', header=None)\n",
    "# df_y_train = pd.read_csv(data_set+'/'+'y_train.csv', header=None)\n",
    "# df_X_test = pd.read_csv(data_set+'/'+'X_test.csv', header=None)\n",
    "# df_y_test = pd.read_csv(data_set+'/'+'y_test.csv', header=None)\n",
    "\n",
    "df_X_train = pd.read_csv('../data/X_train.csv', header=None)\n",
    "df_y_train = pd.read_csv('../data/y_train.csv', header=None)\n",
    "\n",
    "df_X_test = pd.read_csv('../data/X_test.csv', header=None)\n",
    "df_y_test = pd.read_csv('../data/y_test.csv', header=None)\n",
    "\n",
    "# save in numpy arrays\n",
    "X_train = df_X_train.to_numpy()\n",
    "y_train = df_y_train.to_numpy()\n",
    "X_test = df_X_test.to_numpy()\n",
    "y_test = df_y_test.to_numpy()\n",
    "\n",
    "# get training set size\n",
    "n_train = X_train.shape[0]\n",
    "\n",
    "# normalize all features to [0,1] or [-1,1]\n",
    "X_all = MyUtils.normalize_neg1_pos1(np.concatenate((X_train, X_test), axis=0))\n",
    "\n",
    "\n",
    "X_train = X_all[:n_train]\n",
    "X_test = X_all[n_train:]\n",
    "\n",
    "print(X_train.shape)\n",
    "print(y_train.shape)\n",
    "print(X_test.shape)\n",
    "print(y_test.shape)\n",
    "#print(y_test)"
   ]
  },
  {
   "cell_type": "code",
   "execution_count": 27,
   "metadata": {},
   "outputs": [],
   "source": [
    "#print(y_train[-10:])"
   ]
  },
  {
   "cell_type": "code",
   "execution_count": null,
   "metadata": {},
   "outputs": [
    {
     "data": {
      "image/png": "[encoded data removed]",
      "text/plain": [
       "<Figure size 640x480 with 1 Axes>"
      ]
     },
     "metadata": {},
     "output_type": "display_data"
    },
    {
     "name": "stdout",
     "output_type": "stream",
     "text": [
      "done\n"
     ]
    }
   ],
   "source": [
    "\n",
    "# build the model\n",
    "\n",
    "log_dir = \"../log\"\n",
    "\n",
    "logistic = logic.LogisticRegression(verbose = True)\n",
    "\n",
    "def run_test(model = \"NonSGD\", deg = 1, l = 0.1, e = 0.01, iterations = 100, minibatch_size = 20):\n",
    "        \n",
    "    # train the model\n",
    "    if (model == \"NonSGD\"):\n",
    "        logistic.fit(X_train, y_train, lam = l, eta = e, iterations = iterations, \\\n",
    "        SGD = False, mini_batch_size = minibatch_size, degree = deg)\n",
    "    else:\n",
    "        logistic.fit(X_train, y_train, lam = l, eta = e, iterations = iterations, \\\n",
    "        SGD = True, mini_batch_size = minibatch_size, degree = deg)\n",
    "    \n",
    "\n",
    "\n",
    "def plot_error(label = \"results\", column = \"Epochs\"):\n",
    "    data = pd.read_csv(log_dir + \"/\" + label + \".csv\") \n",
    "    # print(data.head())\n",
    "    if \"In-sample Error\" in data.keys():\n",
    "        plt.plot(data[column], data[\"In-sample Error\"], label=\"In-sample Error\")\n",
    "    if \"Out-sample Error\" in data.keys():\n",
    "        plt.plot(data[column], data[\"Out-sample Error\"], label=\"Out-sample Error\")\n",
    "    # plt.plot(data[column], data[\"In-sample Error\"] + data[\"Out-sample Error\"], label=\"Sum Error\")\n",
    "    plt.title(label + \"-In-sample/Out-sample Error\") \n",
    "    plt.xlabel(column) \n",
    "    plt.ylabel(\"Error\") \n",
    "    plt.legend()\n",
    "    plt.savefig(log_dir + \"/\" + label + \".png\")\n",
    "    plt.show()\n",
    "\n",
    "deg = 1    # optimal = \n",
    "l = 0.1    # optimal = \n",
    "e = 0.001  # optimal = \n",
    "\n",
    "model = \"NonSGD\"\n",
    "column = \"Degree\"\n",
    "\n",
    "label = model + \"_\" + column\n",
    "logistic.initialize_log(label, X_test=X_test, y_test=y_test, in_sample=True, out_sample=True)\n",
    "\n",
    "\n",
    "# test degree\n",
    "for i in range(1, 4):\n",
    "    print(\"degree: \", i)\n",
    "    deg = i\n",
    "    run_test(model = model, deg = i, l = l)\n",
    "plot_error(label = label, column = column)\n",
    "\n",
    "# test lambda, eta\n",
    "# for i in range(1, 100, 1):\n",
    "#     # l = 0.01 * i\n",
    "#     # print(\"lambda: \", l)\n",
    "#     e = 0.00001 * i\n",
    "#     run_test(model = model, deg = deg, l = l, e = e)\n",
    "# plot_error(label = label, column = column)\n",
    "\n",
    "\n",
    "# test epochs, iterations\n",
    "# for num_epochs in range(1000, 3000, 300):\n",
    "#     num_epochs = num_epochs * 1\n",
    "#     run_test(model = model, deg = deg, l = l, e = e, num_epochs = num_epochs)\n",
    "# plot_error(label = label, column = column)\n",
    "\n",
    "\n",
    "\n",
    "\n",
    "print(\"done\") "
   ]
  },
  {
   "cell_type": "code",
   "execution_count": 29,
   "metadata": {},
   "outputs": [],
   "source": [
    "# run_test(model = \"GD\", deg = 3, l = 0.1, e = 0.01, num_epochs = 1000000)\n",
    "\n",
    "# # plt.scatter(np.arange(len(lr.MSE)-100000), lr.MSE[100000:], marker='.')\n",
    "# plt.scatter(np.arange(len(lr.MSE)), lr.MSE, marker='.')\n",
    "# plt.xlabel('epoch % 100')\n",
    "# plt.ylabel('MSE')\n",
    "# plt.legend()\n",
    "# plt.savefig(\"log/\" + \"GD_MSE\" + \".png\")\n",
    "# plt.show()"
   ]
  },
  {
   "cell_type": "code",
   "execution_count": 30,
   "metadata": {},
   "outputs": [],
   "source": [
    "\n",
    "\n",
    "# plot_error(label = \"CF_deg\", column = \"Degree\")\n",
    "# plot_error(label = \"CF_lam\", column = \"Lam\")\n",
    "# plot_error(label = \"GD_deg\", column = \"Degree\")\n",
    "# plot_error(label = \"GD_lam\", column = \"Lam\")\n",
    "# plot_error(label = \"GD_eta\", column = \"Eta\")\n",
    "# plot_error(label = \"GD_epochs\", column = \"Epochs\")"
   ]
  }
 ],
 "metadata": {
  "kernelspec": {
   "display_name": "bsg",
   "language": "python",
   "name": "python3"
  },
  "language_info": {
   "codemirror_mode": {
    "name": "ipython",
    "version": 3
   },
   "file_extension": ".py",
   "mimetype": "text/x-python",
   "name": "python",
   "nbconvert_exporter": "python",
   "pygments_lexer": "ipython3",
   "version": "3.12.8"
  }
 },
 "nbformat": 4,
 "nbformat_minor": 2
}
